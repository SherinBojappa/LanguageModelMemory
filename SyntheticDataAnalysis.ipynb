{
 "cells": [
  {
   "cell_type": "code",
   "execution_count": 1,
   "id": "08933a9f",
   "metadata": {},
   "outputs": [],
   "source": [
    "import pandas as pd\n",
    "import pickle\n",
    "import re\n",
    "import numpy as np"
   ]
  },
  {
   "cell_type": "code",
   "execution_count": 2,
   "id": "749abc0a",
   "metadata": {},
   "outputs": [],
   "source": [
    "INP_PATH = '/data/sherin/'"
   ]
  },
  {
   "cell_type": "code",
   "execution_count": 3,
   "id": "22722b41",
   "metadata": {},
   "outputs": [],
   "source": [
    "df_syn = pd.read_pickle(INP_PATH + '/synthetic_inputs.pkl')"
   ]
  },
  {
   "cell_type": "code",
   "execution_count": 4,
   "id": "ac7ea327",
   "metadata": {},
   "outputs": [],
   "source": [
    "# the data in our case is just numbers from 0 to 512 so we will write this in a file\n",
    "# pre-training a tokenizer - https://www.youtube.com/watch?v=cR4qMSIvX28&ab_channel=JamesBriggs\n",
    "from tqdm import tqdm\n",
    "\n",
    "text_data = []"
   ]
  },
  {
   "cell_type": "code",
   "execution_count": 5,
   "id": "2ba58664",
   "metadata": {},
   "outputs": [],
   "source": [
    "seq = [i for i in df_syn['sequence'].values.tolist()]"
   ]
  },
  {
   "cell_type": "code",
   "execution_count": 6,
   "id": "987f5eb6",
   "metadata": {},
   "outputs": [],
   "source": [
    "with open('tokenizer_file.txt', 'w') as f:\n",
    "    for a in seq:\n",
    "        s = \" \".join([str(v) for v in a])\n",
    "        f.write(s)\n",
    "        f.write(\"\\n\")"
   ]
  },
  {
   "cell_type": "code",
   "execution_count": 106,
   "id": "2294436f",
   "metadata": {},
   "outputs": [
    {
     "name": "stdout",
     "output_type": "stream",
     "text": [
      "Requirement already satisfied: tokenizers in /opt/conda/envs/tf14/lib/python3.7/site-packages (0.11.6)\n",
      "\u001b[33mWARNING: Running pip as the 'root' user can result in broken permissions and conflicting behaviour with the system package manager. It is recommended to use a virtual environment instead: https://pip.pypa.io/warnings/venv\u001b[0m\n"
     ]
    }
   ],
   "source": [
    "!pip install tokenizers"
   ]
  },
  {
   "cell_type": "code",
   "execution_count": 7,
   "id": "8e7a05a0",
   "metadata": {},
   "outputs": [],
   "source": [
    "from tokenizers import BertWordPieceTokenizer"
   ]
  },
  {
   "cell_type": "code",
   "execution_count": 108,
   "id": "16666663",
   "metadata": {},
   "outputs": [],
   "source": [
    "# Len of vocab in this way is 116\n",
    "#tokenizer = BertWordPieceTokenizer(clean_text=True)"
   ]
  },
  {
   "cell_type": "code",
   "execution_count": 114,
   "id": "66734c97",
   "metadata": {},
   "outputs": [
    {
     "name": "stdout",
     "output_type": "stream",
     "text": [
      "\n",
      "\n",
      "\n"
     ]
    }
   ],
   "source": [
    "#tokenizer.train(files='tokenizer_file.txt', vocab_size=520, min_frequency=1, \n",
    "#                special_tokens=['[PAD]', '[UNK]', '[CLS]', '[SEP]','[MASK]'], \n",
    "#                wordpieces_prefix = '##')\n",
    "                                                                        "
   ]
  },
  {
   "cell_type": "code",
   "execution_count": 115,
   "id": "34183a69",
   "metadata": {},
   "outputs": [
    {
     "data": {
      "text/plain": [
       "['./vocab.txt']"
      ]
     },
     "execution_count": 115,
     "metadata": {},
     "output_type": "execute_result"
    }
   ],
   "source": [
    "#tokenizer.save_model('./')"
   ]
  },
  {
   "cell_type": "code",
   "execution_count": 8,
   "id": "fe250f09",
   "metadata": {},
   "outputs": [],
   "source": [
    "from transformers import BertTokenizer"
   ]
  },
  {
   "cell_type": "code",
   "execution_count": 9,
   "id": "5fa414b3",
   "metadata": {},
   "outputs": [],
   "source": [
    "tokenizer = BertTokenizer.from_pretrained('./')"
   ]
  },
  {
   "cell_type": "code",
   "execution_count": 10,
   "id": "dd5e4858",
   "metadata": {},
   "outputs": [],
   "source": [
    "with open('new_tokenized_data.txt', 'w') as fp:\n",
    "    for i in range(512):\n",
    "        fp.write(str(i))\n",
    "        fp.write('\\n')"
   ]
  },
  {
   "cell_type": "code",
   "execution_count": 11,
   "id": "90b9a1e6",
   "metadata": {},
   "outputs": [],
   "source": [
    "tokenizer_new = BertWordPieceTokenizer(clean_text=True)"
   ]
  },
  {
   "cell_type": "code",
   "execution_count": 12,
   "id": "8688d4e6",
   "metadata": {},
   "outputs": [
    {
     "name": "stdout",
     "output_type": "stream",
     "text": [
      "\n",
      "\n",
      "\n"
     ]
    }
   ],
   "source": [
    "# retain this tokenizer as it has more number of tokens\n",
    "tokenizer_new.train(files='new_tokenized_data.txt', vocab_size=600, min_frequency=1, \n",
    "                special_tokens=['[PAD]', '[UNK]', '[CLS]', '[SEP]','[MASK]'], \n",
    "                wordpieces_prefix = '##')"
   ]
  },
  {
   "cell_type": "code",
   "execution_count": 13,
   "id": "73402af2",
   "metadata": {},
   "outputs": [
    {
     "data": {
      "text/plain": [
       "['./vocab.txt']"
      ]
     },
     "execution_count": 13,
     "metadata": {},
     "output_type": "execute_result"
    }
   ],
   "source": [
    "tokenizer_new.save_model('./')"
   ]
  },
  {
   "cell_type": "code",
   "execution_count": 14,
   "id": "a7055ed1",
   "metadata": {},
   "outputs": [],
   "source": [
    "with open('./vocab.txt', 'r') as fp:\n",
    "    vocab = fp.read().split('\\n')"
   ]
  },
  {
   "cell_type": "code",
   "execution_count": 15,
   "id": "9c692885",
   "metadata": {},
   "outputs": [
    {
     "data": {
      "text/plain": [
       "528"
      ]
     },
     "execution_count": 15,
     "metadata": {},
     "output_type": "execute_result"
    }
   ],
   "source": [
    "len(vocab)"
   ]
  },
  {
   "cell_type": "code",
   "execution_count": 16,
   "id": "1a040b77",
   "metadata": {},
   "outputs": [],
   "source": [
    "tokenizer = BertTokenizer.from_pretrained('./')"
   ]
  },
  {
   "cell_type": "code",
   "execution_count": 17,
   "id": "f7c054f8",
   "metadata": {},
   "outputs": [
    {
     "data": {
      "text/plain": [
       "{'input_ids': [2, 32, 42, 52, 3], 'token_type_ids': [0, 0, 0, 0, 0], 'attention_mask': [1, 1, 1, 1, 1]}"
      ]
     },
     "execution_count": 17,
     "metadata": {},
     "output_type": "execute_result"
    }
   ],
   "source": [
    "tokenizer('10 20 30')"
   ]
  },
  {
   "cell_type": "code",
   "execution_count": 18,
   "id": "d8c7348d",
   "metadata": {},
   "outputs": [],
   "source": [
    "mask_token_id = tokenizer.convert_tokens_to_ids('[MASK]')"
   ]
  },
  {
   "cell_type": "code",
   "execution_count": 19,
   "id": "68e6593a",
   "metadata": {},
   "outputs": [],
   "source": [
    "# MLM training pipeline\n",
    "#https://www.youtube.com/watch?v=heTYbpr9mD8&list=PLIUOU7oqGTLj-k75kkirRrCybsJzCKCJW&index=3&ab_channel=JamesBriggs\n",
    "#https://towardsdatascience.com/how-to-train-a-bert-model-from-scratch-72cfce554fc6\n",
    "import torch\n",
    "def MaskLanguageModelling(t):\n",
    "    rand = torch.rand(t.shape)\n",
    "    masks = (rand < 0.15)*(t > 2)\n",
    "    for i in range(t.shape[0]):\n",
    "        selection = torch.flatten(masks[i].nonzero()).tolist()\n",
    "        t[i, selection] = mask_token_id\n",
    "    return t"
   ]
  },
  {
   "cell_type": "code",
   "execution_count": 173,
   "id": "69230582",
   "metadata": {},
   "outputs": [],
   "source": [
    "# the masked input will be in input_ids, you also need to specify the attention mask using mask, and labels which\n",
    "# are the actual input ids without masking\n",
    "input_ids = []\n",
    "mask = []\n",
    "labels = []\n",
    "\n",
    "# all the inputs are in 'tokenized_file.txt'\n",
    "with open('tokenizer_file.txt', 'r', encoding='utf-8') as f:\n",
    "    lines = f.read().split('\\n')\n",
    "\n",
    "sample = tokenizer(lines, max_length=512, padding='max_length', truncation=True, return_tensors='pt')\n"
   ]
  },
  {
   "cell_type": "code",
   "execution_count": 176,
   "id": "30ddb613",
   "metadata": {},
   "outputs": [],
   "source": [
    "labels.append(sample.input_ids)\n",
    "mask.append(sample.attention_mask)\n",
    "input_ids.append(MaskLanguageModelling(sample.input_ids.detach().clone()))"
   ]
  },
  {
   "cell_type": "code",
   "execution_count": 177,
   "id": "15054378",
   "metadata": {},
   "outputs": [],
   "source": [
    "input_ids = torch.cat(input_ids)\n",
    "mask = torch.cat(mask)\n",
    "labels = torch.cat(labels)"
   ]
  },
  {
   "cell_type": "code",
   "execution_count": 181,
   "id": "380c0ca0",
   "metadata": {},
   "outputs": [],
   "source": [
    "encodings = {'input_ids': input_ids, 'attention_mask': mask, 'labels': labels}"
   ]
  },
  {
   "cell_type": "code",
   "execution_count": 182,
   "id": "5da31ede",
   "metadata": {},
   "outputs": [],
   "source": [
    "class Dataset(torch.utils.data.Dataset):\n",
    "    def __init__(self, encodings):\n",
    "        # store encodings internally\n",
    "        self.encodings = encodings\n",
    "\n",
    "    def __len__(self):\n",
    "        # return the number of samples\n",
    "        return self.encodings['input_ids'].shape[0]\n",
    "\n",
    "    def __getitem__(self, i):\n",
    "        # return dictionary of input_ids, attention_mask, and labels for index i\n",
    "        return {key: tensor[i] for key, tensor in self.encodings.items()}"
   ]
  },
  {
   "cell_type": "code",
   "execution_count": 183,
   "id": "a88b8bce",
   "metadata": {},
   "outputs": [],
   "source": [
    "dataset = Dataset(encodings)"
   ]
  },
  {
   "cell_type": "code",
   "execution_count": 184,
   "id": "46040fad",
   "metadata": {},
   "outputs": [],
   "source": [
    "loader = torch.utils.data.DataLoader(dataset, batch_size=16, shuffle=True)"
   ]
  },
  {
   "cell_type": "code",
   "execution_count": 20,
   "id": "6b4851ba",
   "metadata": {},
   "outputs": [],
   "source": [
    "from transformers import BertConfig\n",
    "\n",
    "config = BertConfig(\n",
    "    vocab_size=tokenizer.vocab_size,  # we align this to the tokenizer vocab_size\n",
    "    max_position_embeddings=514,\n",
    "    hidden_size=512,\n",
    "    num_attention_heads=4,\n",
    "    num_hidden_layers=2,\n",
    "    type_vocab_size=1\n",
    ")"
   ]
  },
  {
   "cell_type": "code",
   "execution_count": 21,
   "id": "34968983",
   "metadata": {},
   "outputs": [],
   "source": [
    "from transformers import BertForMaskedLM\n",
    "\n",
    "model_bert = BertForMaskedLM(config)"
   ]
  },
  {
   "cell_type": "code",
   "execution_count": 324,
   "id": "76ddda5d",
   "metadata": {},
   "outputs": [
    {
     "data": {
      "text/plain": [
       "RetentionNetwork(\n",
       "  (linear): Sequential(\n",
       "    (0): Linear(in_features=768, out_features=768, bias=True)\n",
       "  )\n",
       "  (model_bert): BertForMaskedLM(\n",
       "    (bert): BertModel(\n",
       "      (embeddings): BertEmbeddings(\n",
       "        (word_embeddings): Embedding(527, 768, padding_idx=0)\n",
       "        (position_embeddings): Embedding(514, 768)\n",
       "        (token_type_embeddings): Embedding(1, 768)\n",
       "        (LayerNorm): LayerNorm((768,), eps=1e-12, elementwise_affine=True)\n",
       "        (dropout): Dropout(p=0.1, inplace=False)\n",
       "      )\n",
       "      (encoder): BertEncoder(\n",
       "        (layer): ModuleList(\n",
       "          (0): BertLayer(\n",
       "            (attention): BertAttention(\n",
       "              (self): BertSelfAttention(\n",
       "                (query): Linear(in_features=768, out_features=768, bias=True)\n",
       "                (key): Linear(in_features=768, out_features=768, bias=True)\n",
       "                (value): Linear(in_features=768, out_features=768, bias=True)\n",
       "                (dropout): Dropout(p=0.1, inplace=False)\n",
       "              )\n",
       "              (output): BertSelfOutput(\n",
       "                (dense): Linear(in_features=768, out_features=768, bias=True)\n",
       "                (LayerNorm): LayerNorm((768,), eps=1e-12, elementwise_affine=True)\n",
       "                (dropout): Dropout(p=0.1, inplace=False)\n",
       "              )\n",
       "            )\n",
       "            (intermediate): BertIntermediate(\n",
       "              (dense): Linear(in_features=768, out_features=3072, bias=True)\n",
       "              (intermediate_act_fn): GELUActivation()\n",
       "            )\n",
       "            (output): BertOutput(\n",
       "              (dense): Linear(in_features=3072, out_features=768, bias=True)\n",
       "              (LayerNorm): LayerNorm((768,), eps=1e-12, elementwise_affine=True)\n",
       "              (dropout): Dropout(p=0.1, inplace=False)\n",
       "            )\n",
       "          )\n",
       "          (1): BertLayer(\n",
       "            (attention): BertAttention(\n",
       "              (self): BertSelfAttention(\n",
       "                (query): Linear(in_features=768, out_features=768, bias=True)\n",
       "                (key): Linear(in_features=768, out_features=768, bias=True)\n",
       "                (value): Linear(in_features=768, out_features=768, bias=True)\n",
       "                (dropout): Dropout(p=0.1, inplace=False)\n",
       "              )\n",
       "              (output): BertSelfOutput(\n",
       "                (dense): Linear(in_features=768, out_features=768, bias=True)\n",
       "                (LayerNorm): LayerNorm((768,), eps=1e-12, elementwise_affine=True)\n",
       "                (dropout): Dropout(p=0.1, inplace=False)\n",
       "              )\n",
       "            )\n",
       "            (intermediate): BertIntermediate(\n",
       "              (dense): Linear(in_features=768, out_features=3072, bias=True)\n",
       "              (intermediate_act_fn): GELUActivation()\n",
       "            )\n",
       "            (output): BertOutput(\n",
       "              (dense): Linear(in_features=3072, out_features=768, bias=True)\n",
       "              (LayerNorm): LayerNorm((768,), eps=1e-12, elementwise_affine=True)\n",
       "              (dropout): Dropout(p=0.1, inplace=False)\n",
       "            )\n",
       "          )\n",
       "          (2): BertLayer(\n",
       "            (attention): BertAttention(\n",
       "              (self): BertSelfAttention(\n",
       "                (query): Linear(in_features=768, out_features=768, bias=True)\n",
       "                (key): Linear(in_features=768, out_features=768, bias=True)\n",
       "                (value): Linear(in_features=768, out_features=768, bias=True)\n",
       "                (dropout): Dropout(p=0.1, inplace=False)\n",
       "              )\n",
       "              (output): BertSelfOutput(\n",
       "                (dense): Linear(in_features=768, out_features=768, bias=True)\n",
       "                (LayerNorm): LayerNorm((768,), eps=1e-12, elementwise_affine=True)\n",
       "                (dropout): Dropout(p=0.1, inplace=False)\n",
       "              )\n",
       "            )\n",
       "            (intermediate): BertIntermediate(\n",
       "              (dense): Linear(in_features=768, out_features=3072, bias=True)\n",
       "              (intermediate_act_fn): GELUActivation()\n",
       "            )\n",
       "            (output): BertOutput(\n",
       "              (dense): Linear(in_features=3072, out_features=768, bias=True)\n",
       "              (LayerNorm): LayerNorm((768,), eps=1e-12, elementwise_affine=True)\n",
       "              (dropout): Dropout(p=0.1, inplace=False)\n",
       "            )\n",
       "          )\n",
       "          (3): BertLayer(\n",
       "            (attention): BertAttention(\n",
       "              (self): BertSelfAttention(\n",
       "                (query): Linear(in_features=768, out_features=768, bias=True)\n",
       "                (key): Linear(in_features=768, out_features=768, bias=True)\n",
       "                (value): Linear(in_features=768, out_features=768, bias=True)\n",
       "                (dropout): Dropout(p=0.1, inplace=False)\n",
       "              )\n",
       "              (output): BertSelfOutput(\n",
       "                (dense): Linear(in_features=768, out_features=768, bias=True)\n",
       "                (LayerNorm): LayerNorm((768,), eps=1e-12, elementwise_affine=True)\n",
       "                (dropout): Dropout(p=0.1, inplace=False)\n",
       "              )\n",
       "            )\n",
       "            (intermediate): BertIntermediate(\n",
       "              (dense): Linear(in_features=768, out_features=3072, bias=True)\n",
       "              (intermediate_act_fn): GELUActivation()\n",
       "            )\n",
       "            (output): BertOutput(\n",
       "              (dense): Linear(in_features=3072, out_features=768, bias=True)\n",
       "              (LayerNorm): LayerNorm((768,), eps=1e-12, elementwise_affine=True)\n",
       "              (dropout): Dropout(p=0.1, inplace=False)\n",
       "            )\n",
       "          )\n",
       "          (4): BertLayer(\n",
       "            (attention): BertAttention(\n",
       "              (self): BertSelfAttention(\n",
       "                (query): Linear(in_features=768, out_features=768, bias=True)\n",
       "                (key): Linear(in_features=768, out_features=768, bias=True)\n",
       "                (value): Linear(in_features=768, out_features=768, bias=True)\n",
       "                (dropout): Dropout(p=0.1, inplace=False)\n",
       "              )\n",
       "              (output): BertSelfOutput(\n",
       "                (dense): Linear(in_features=768, out_features=768, bias=True)\n",
       "                (LayerNorm): LayerNorm((768,), eps=1e-12, elementwise_affine=True)\n",
       "                (dropout): Dropout(p=0.1, inplace=False)\n",
       "              )\n",
       "            )\n",
       "            (intermediate): BertIntermediate(\n",
       "              (dense): Linear(in_features=768, out_features=3072, bias=True)\n",
       "              (intermediate_act_fn): GELUActivation()\n",
       "            )\n",
       "            (output): BertOutput(\n",
       "              (dense): Linear(in_features=3072, out_features=768, bias=True)\n",
       "              (LayerNorm): LayerNorm((768,), eps=1e-12, elementwise_affine=True)\n",
       "              (dropout): Dropout(p=0.1, inplace=False)\n",
       "            )\n",
       "          )\n",
       "          (5): BertLayer(\n",
       "            (attention): BertAttention(\n",
       "              (self): BertSelfAttention(\n",
       "                (query): Linear(in_features=768, out_features=768, bias=True)\n",
       "                (key): Linear(in_features=768, out_features=768, bias=True)\n",
       "                (value): Linear(in_features=768, out_features=768, bias=True)\n",
       "                (dropout): Dropout(p=0.1, inplace=False)\n",
       "              )\n",
       "              (output): BertSelfOutput(\n",
       "                (dense): Linear(in_features=768, out_features=768, bias=True)\n",
       "                (LayerNorm): LayerNorm((768,), eps=1e-12, elementwise_affine=True)\n",
       "                (dropout): Dropout(p=0.1, inplace=False)\n",
       "              )\n",
       "            )\n",
       "            (intermediate): BertIntermediate(\n",
       "              (dense): Linear(in_features=768, out_features=3072, bias=True)\n",
       "              (intermediate_act_fn): GELUActivation()\n",
       "            )\n",
       "            (output): BertOutput(\n",
       "              (dense): Linear(in_features=3072, out_features=768, bias=True)\n",
       "              (LayerNorm): LayerNorm((768,), eps=1e-12, elementwise_affine=True)\n",
       "              (dropout): Dropout(p=0.1, inplace=False)\n",
       "            )\n",
       "          )\n",
       "        )\n",
       "      )\n",
       "    )\n",
       "    (cls): BertOnlyMLMHead(\n",
       "      (predictions): BertLMPredictionHead(\n",
       "        (transform): BertPredictionHeadTransform(\n",
       "          (dense): Linear(in_features=768, out_features=768, bias=True)\n",
       "          (transform_act_fn): GELUActivation()\n",
       "          (LayerNorm): LayerNorm((768,), eps=1e-12, elementwise_affine=True)\n",
       "        )\n",
       "        (decoder): Linear(in_features=768, out_features=527, bias=True)\n",
       "      )\n",
       "    )\n",
       "  )\n",
       ")"
      ]
     },
     "execution_count": 324,
     "metadata": {},
     "output_type": "execute_result"
    }
   ],
   "source": [
    "device = torch.device('cuda') if torch.cuda.is_available() else torch.device('cpu')\n",
    "# and move our model over to the selected device\n",
    "model.to(device)"
   ]
  },
  {
   "cell_type": "code",
   "execution_count": 22,
   "id": "67ae5013",
   "metadata": {},
   "outputs": [
    {
     "ename": "NameError",
     "evalue": "name 'device' is not defined",
     "output_type": "error",
     "traceback": [
      "\u001b[0;31m---------------------------------------------------------------------------\u001b[0m",
      "\u001b[0;31mNameError\u001b[0m                                 Traceback (most recent call last)",
      "\u001b[0;32m/tmp/ipykernel_507167/1098981787.py\u001b[0m in \u001b[0;36m<module>\u001b[0;34m\u001b[0m\n\u001b[0;32m----> 1\u001b[0;31m \u001b[0mdevice\u001b[0m\u001b[0;34m\u001b[0m\u001b[0;34m\u001b[0m\u001b[0m\n\u001b[0m",
      "\u001b[0;31mNameError\u001b[0m: name 'device' is not defined"
     ]
    }
   ],
   "source": [
    "device"
   ]
  },
  {
   "cell_type": "code",
   "execution_count": 326,
   "id": "8d2ce636",
   "metadata": {},
   "outputs": [
    {
     "name": "stderr",
     "output_type": "stream",
     "text": [
      "/opt/conda/envs/tf14/lib/python3.7/site-packages/transformers/optimization.py:309: FutureWarning: This implementation of AdamW is deprecated and will be removed in a future version. Use the PyTorch implementation torch.optim.AdamW instead, or set `no_deprecation_warning=True` to disable this warning\n",
      "  FutureWarning,\n"
     ]
    }
   ],
   "source": [
    "from transformers import AdamW\n",
    "\n",
    "# activate training mode\n",
    "model.train()\n",
    "# initialize optimizer\n",
    "optim = AdamW(model.parameters(), lr=1e-4)"
   ]
  },
  {
   "cell_type": "code",
   "execution_count": 36,
   "id": "9e409ce9",
   "metadata": {},
   "outputs": [],
   "source": [
    "checkpoint_path = '/data/sherin/checkpoint_lm/chkpt_synthetic_bert_best.pt.tar'"
   ]
  },
  {
   "cell_type": "code",
   "execution_count": 328,
   "id": "e81680ea",
   "metadata": {},
   "outputs": [
    {
     "name": "stderr",
     "output_type": "stream",
     "text": [
      "  0%|                                                 | 0/12109 [00:00<?, ?it/s]\n"
     ]
    },
    {
     "ename": "TypeError",
     "evalue": "forward() got an unexpected keyword argument 'attention_mask'",
     "output_type": "error",
     "traceback": [
      "\u001b[0;31m---------------------------------------------------------------------------\u001b[0m",
      "\u001b[0;31mTypeError\u001b[0m                                 Traceback (most recent call last)",
      "\u001b[0;32m/tmp/ipykernel_506843/3171859287.py\u001b[0m in \u001b[0;36m<module>\u001b[0;34m\u001b[0m\n\u001b[1;32m     14\u001b[0m         \u001b[0;31m# process\u001b[0m\u001b[0;34m\u001b[0m\u001b[0;34m\u001b[0m\u001b[0;34m\u001b[0m\u001b[0m\n\u001b[1;32m     15\u001b[0m         outputs = model(input_ids, attention_mask=attention_mask,\n\u001b[0;32m---> 16\u001b[0;31m                         labels=labels)\n\u001b[0m\u001b[1;32m     17\u001b[0m         \u001b[0;31m# extract loss\u001b[0m\u001b[0;34m\u001b[0m\u001b[0;34m\u001b[0m\u001b[0;34m\u001b[0m\u001b[0m\n\u001b[1;32m     18\u001b[0m         \u001b[0mloss\u001b[0m \u001b[0;34m=\u001b[0m \u001b[0moutputs\u001b[0m\u001b[0;34m.\u001b[0m\u001b[0mloss\u001b[0m\u001b[0;34m\u001b[0m\u001b[0;34m\u001b[0m\u001b[0m\n",
      "\u001b[0;32m/opt/conda/envs/tf14/lib/python3.7/site-packages/torch/nn/modules/module.py\u001b[0m in \u001b[0;36m_call_impl\u001b[0;34m(self, *input, **kwargs)\u001b[0m\n\u001b[1;32m    725\u001b[0m             \u001b[0mresult\u001b[0m \u001b[0;34m=\u001b[0m \u001b[0mself\u001b[0m\u001b[0;34m.\u001b[0m\u001b[0m_slow_forward\u001b[0m\u001b[0;34m(\u001b[0m\u001b[0;34m*\u001b[0m\u001b[0minput\u001b[0m\u001b[0;34m,\u001b[0m \u001b[0;34m**\u001b[0m\u001b[0mkwargs\u001b[0m\u001b[0;34m)\u001b[0m\u001b[0;34m\u001b[0m\u001b[0;34m\u001b[0m\u001b[0m\n\u001b[1;32m    726\u001b[0m         \u001b[0;32melse\u001b[0m\u001b[0;34m:\u001b[0m\u001b[0;34m\u001b[0m\u001b[0;34m\u001b[0m\u001b[0m\n\u001b[0;32m--> 727\u001b[0;31m             \u001b[0mresult\u001b[0m \u001b[0;34m=\u001b[0m \u001b[0mself\u001b[0m\u001b[0;34m.\u001b[0m\u001b[0mforward\u001b[0m\u001b[0;34m(\u001b[0m\u001b[0;34m*\u001b[0m\u001b[0minput\u001b[0m\u001b[0;34m,\u001b[0m \u001b[0;34m**\u001b[0m\u001b[0mkwargs\u001b[0m\u001b[0;34m)\u001b[0m\u001b[0;34m\u001b[0m\u001b[0;34m\u001b[0m\u001b[0m\n\u001b[0m\u001b[1;32m    728\u001b[0m         for hook in itertools.chain(\n\u001b[1;32m    729\u001b[0m                 \u001b[0m_global_forward_hooks\u001b[0m\u001b[0;34m.\u001b[0m\u001b[0mvalues\u001b[0m\u001b[0;34m(\u001b[0m\u001b[0;34m)\u001b[0m\u001b[0;34m,\u001b[0m\u001b[0;34m\u001b[0m\u001b[0;34m\u001b[0m\u001b[0m\n",
      "\u001b[0;31mTypeError\u001b[0m: forward() got an unexpected keyword argument 'attention_mask'"
     ]
    }
   ],
   "source": [
    "epochs = 2\n",
    "min_loss = np.inf\n",
    "\n",
    "for epoch in range(epochs):\n",
    "    # setup loop with TQDM and dataloader\n",
    "    loop = tqdm(loader, leave=True)\n",
    "    for batch in loop:\n",
    "        # initialize calculated gradients (from prev step)\n",
    "        optim.zero_grad()\n",
    "        # pull all tensor batches required for training\n",
    "        input_ids = batch['input_ids'].to(device)\n",
    "        attention_mask = batch['attention_mask'].to(device)\n",
    "        labels = batch['labels'].to(device)\n",
    "        # process\n",
    "        outputs = model(input_ids, attention_mask=attention_mask,\n",
    "                        labels=labels)\n",
    "        # extract loss\n",
    "        loss = outputs.loss\n",
    "        # calculate loss for every parameter that needs grad update\n",
    "        loss.backward()\n",
    "        # update parameters\n",
    "        optim.step()\n",
    "        # print relevant info to progress bar\n",
    "        loop.set_description(f'Epoch {epoch}')\n",
    "        loop.set_postfix(loss=loss.item())\n",
    "    if loss.item() < min_loss:\n",
    "        print(\"saving best model\")\n",
    "        torch.save({\n",
    "            'epoch': epoch,\n",
    "            'model_state_dict': model.state_dict(),\n",
    "            'optimizer_state_dict': optim.state_dict(),\n",
    "            'loss': loss,\n",
    "        }, checkpoint_path)\n",
    "        min_loss = loss.item()\n",
    "    else:\n",
    "        print(\"not saving the model\")"
   ]
  },
  {
   "cell_type": "code",
   "execution_count": 23,
   "id": "d2419da2",
   "metadata": {},
   "outputs": [],
   "source": [
    "# convert the context and query to be string\n",
    "def convert_to_string(df, col_name):\n",
    "    seq = df[col_name].tolist()\n",
    "    return \" \".join([str(a) for a in seq])"
   ]
  },
  {
   "cell_type": "code",
   "execution_count": 24,
   "id": "0bd09d75",
   "metadata": {},
   "outputs": [],
   "source": [
    "# convert the context and query to be string\n",
    "def convert_query(df, col_name):\n",
    "    return(str(df[col_name]))\n"
   ]
  },
  {
   "cell_type": "code",
   "execution_count": 25,
   "id": "9daeaaf4",
   "metadata": {},
   "outputs": [],
   "source": [
    "df_syn['seq_str'] = df_syn.apply(lambda x: convert_to_string(x, 'sequence'), axis=1)\n",
    "df_syn['query_str'] = df_syn.apply(lambda x: convert_query(x, 'query'), axis=1)"
   ]
  },
  {
   "cell_type": "code",
   "execution_count": 26,
   "id": "cb78a2d2",
   "metadata": {},
   "outputs": [],
   "source": [
    "df_exp = df_syn.tail()"
   ]
  },
  {
   "cell_type": "code",
   "execution_count": 259,
   "id": "b402de56",
   "metadata": {},
   "outputs": [
    {
     "data": {
      "text/html": [
       "<div>\n",
       "<style scoped>\n",
       "    .dataframe tbody tr th:only-of-type {\n",
       "        vertical-align: middle;\n",
       "    }\n",
       "\n",
       "    .dataframe tbody tr th {\n",
       "        vertical-align: top;\n",
       "    }\n",
       "\n",
       "    .dataframe thead th {\n",
       "        text-align: right;\n",
       "    }\n",
       "</style>\n",
       "<table border=\"1\" class=\"dataframe\">\n",
       "  <thead>\n",
       "    <tr style=\"text-align: right;\">\n",
       "      <th></th>\n",
       "      <th>sequence</th>\n",
       "      <th>query</th>\n",
       "      <th>sequence_len</th>\n",
       "      <th>first_rep_pos</th>\n",
       "      <th>label</th>\n",
       "      <th>token_repeated</th>\n",
       "      <th>seq_str</th>\n",
       "      <th>query_str</th>\n",
       "    </tr>\n",
       "  </thead>\n",
       "  <tbody>\n",
       "    <tr>\n",
       "      <th>193730</th>\n",
       "      <td>[1, 13, 29, 12, 11, 88, 0, 48, 46, 87, 86, 76,...</td>\n",
       "      <td>94</td>\n",
       "      <td>99</td>\n",
       "      <td>-1</td>\n",
       "      <td>0</td>\n",
       "      <td>-1</td>\n",
       "      <td>1 13 29 12 11 88 0 48 46 87 86 76 3 7 95 50 71...</td>\n",
       "      <td>94</td>\n",
       "    </tr>\n",
       "    <tr>\n",
       "      <th>193731</th>\n",
       "      <td>[55, 60, 11, 90, 18, 38, 9, 87, 35, 30, 6, 48,...</td>\n",
       "      <td>4</td>\n",
       "      <td>99</td>\n",
       "      <td>46</td>\n",
       "      <td>1</td>\n",
       "      <td>4</td>\n",
       "      <td>55 60 11 90 18 38 9 87 35 30 6 48 41 16 77 57 ...</td>\n",
       "      <td>4</td>\n",
       "    </tr>\n",
       "    <tr>\n",
       "      <th>193732</th>\n",
       "      <td>[53, 54, 1, 44, 48, 79, 15, 47, 23, 58, 97, 33...</td>\n",
       "      <td>42</td>\n",
       "      <td>99</td>\n",
       "      <td>-1</td>\n",
       "      <td>0</td>\n",
       "      <td>-1</td>\n",
       "      <td>53 54 1 44 48 79 15 47 23 58 97 33 29 78 26 91...</td>\n",
       "      <td>42</td>\n",
       "    </tr>\n",
       "    <tr>\n",
       "      <th>193733</th>\n",
       "      <td>[36, 30, 49, 66, 52, 7, 79, 37, 62, 9, 59, 27,...</td>\n",
       "      <td>69</td>\n",
       "      <td>99</td>\n",
       "      <td>16</td>\n",
       "      <td>1</td>\n",
       "      <td>69</td>\n",
       "      <td>36 30 49 66 52 7 79 37 62 9 59 27 85 72 12 97 ...</td>\n",
       "      <td>69</td>\n",
       "    </tr>\n",
       "    <tr>\n",
       "      <th>193734</th>\n",
       "      <td>[0, 84, 62, 7, 5, 18, 40, 63, 32, 68, 87, 66, ...</td>\n",
       "      <td>72</td>\n",
       "      <td>99</td>\n",
       "      <td>-1</td>\n",
       "      <td>0</td>\n",
       "      <td>-1</td>\n",
       "      <td>0 84 62 7 5 18 40 63 32 68 87 66 93 90 13 8 37...</td>\n",
       "      <td>72</td>\n",
       "    </tr>\n",
       "  </tbody>\n",
       "</table>\n",
       "</div>"
      ],
      "text/plain": [
       "                                                 sequence  query  \\\n",
       "193730  [1, 13, 29, 12, 11, 88, 0, 48, 46, 87, 86, 76,...     94   \n",
       "193731  [55, 60, 11, 90, 18, 38, 9, 87, 35, 30, 6, 48,...      4   \n",
       "193732  [53, 54, 1, 44, 48, 79, 15, 47, 23, 58, 97, 33...     42   \n",
       "193733  [36, 30, 49, 66, 52, 7, 79, 37, 62, 9, 59, 27,...     69   \n",
       "193734  [0, 84, 62, 7, 5, 18, 40, 63, 32, 68, 87, 66, ...     72   \n",
       "\n",
       "        sequence_len  first_rep_pos  label  token_repeated  \\\n",
       "193730            99             -1      0              -1   \n",
       "193731            99             46      1               4   \n",
       "193732            99             -1      0              -1   \n",
       "193733            99             16      1              69   \n",
       "193734            99             -1      0              -1   \n",
       "\n",
       "                                                  seq_str query_str  \n",
       "193730  1 13 29 12 11 88 0 48 46 87 86 76 3 7 95 50 71...        94  \n",
       "193731  55 60 11 90 18 38 9 87 35 30 6 48 41 16 77 57 ...         4  \n",
       "193732  53 54 1 44 48 79 15 47 23 58 97 33 29 78 26 91...        42  \n",
       "193733  36 30 49 66 52 7 79 37 62 9 59 27 85 72 12 97 ...        69  \n",
       "193734  0 84 62 7 5 18 40 63 32 68 87 66 93 90 13 8 37...        72  "
      ]
     },
     "execution_count": 259,
     "metadata": {},
     "output_type": "execute_result"
    }
   ],
   "source": [
    "df_exp"
   ]
  },
  {
   "cell_type": "code",
   "execution_count": 260,
   "id": "9067d52d",
   "metadata": {},
   "outputs": [
    {
     "data": {
      "text/plain": [
       "193730    94\n",
       "193731     4\n",
       "193732    42\n",
       "193733    69\n",
       "193734    72\n",
       "Name: query_str, dtype: object"
      ]
     },
     "execution_count": 260,
     "metadata": {},
     "output_type": "execute_result"
    }
   ],
   "source": [
    "df_exp.head().iloc[:,7]"
   ]
  },
  {
   "cell_type": "code",
   "execution_count": 27,
   "id": "810cf08a",
   "metadata": {},
   "outputs": [],
   "source": [
    "# create a dataset with the dataframe\n",
    "from torch.utils.data import Dataset\n",
    "from torch.utils.data import DataLoader\n",
    "\n",
    "class CustomDataset(Dataset):\n",
    "\n",
    "    def __init__(self, dataframe):\n",
    "\n",
    "        self.context = dataframe.iloc[:, 6]\n",
    "        self.query = dataframe.iloc[:,7]\n",
    "        self.labels = dataframe.iloc[:, 4]\n",
    "\n",
    "        #self.x_train=torch.tensor(x,dtype=torch.float32)\n",
    "        #self.y_train=torch.tensor(y,dtype=torch.float32)\n",
    "\n",
    "    def __len__(self):\n",
    "        return len(self.query)\n",
    "  \n",
    "    def __getitem__(self, idx):\n",
    "        #print(self.query[idx], self.labels[idx])\n",
    "        return self.context.iloc[idx], self.query.iloc[idx], self.labels.iloc[idx]"
   ]
  },
  {
   "cell_type": "code",
   "execution_count": 28,
   "id": "f7aa8b11",
   "metadata": {},
   "outputs": [],
   "source": [
    "from torch.utils.data import random_split\n",
    "\n",
    "data_set = CustomDataset(df_syn)\n",
    "\n",
    "# split the dataset into train(80%), validation(10%), and test(10%)\n",
    "train_len = int(len(df_syn)*0.8)\n",
    "test_len = int(len(df_syn)*0.1)\n",
    "val_len = len(df_syn) - train_len - test_len\n",
    "train_set, val_set, test_set = random_split(data_set, [train_len, val_len, test_len])\n",
    "\n",
    "\n",
    "train_loader = DataLoader(train_set,batch_size=128,shuffle=True)\n",
    "test_loader = DataLoader(test_set,batch_size=128,shuffle=False)\n",
    "val_loader = DataLoader(val_set,batch_size=128,shuffle=False) "
   ]
  },
  {
   "cell_type": "code",
   "execution_count": 29,
   "id": "98ad970f",
   "metadata": {},
   "outputs": [],
   "source": [
    "from torch import nn"
   ]
  },
  {
   "cell_type": "code",
   "execution_count": 30,
   "id": "9b099adb",
   "metadata": {},
   "outputs": [],
   "source": [
    "class RetentionNetwork(nn.Module):\n",
    "    def __init__(self):\n",
    "        super(RetentionNetwork, self).__init__()\n",
    "        \n",
    "        self.linear = nn.Sequential(\n",
    "            # 384 is the size of the embedding\n",
    "            #nn.Linear(768, 768)\n",
    "            nn.Linear(512, 512, bias=False)\n",
    "        )\n",
    "        self.model_bert = BertForMaskedLM(config)\n",
    "\n",
    "    def forward(self, x, y):\n",
    "        #print(x.size())\n",
    "        x_tok = tokenizer(x, return_tensors=\"pt\", truncation=True, padding=True).to(device)\n",
    "        x_bert = self.model_bert(**x_tok, output_hidden_states=True)\n",
    "        #print(len(x_bert.hidden_states))\n",
    "        x_bert_rep = x_bert.hidden_states[-1][:,0,:]\n",
    "        y_tok = tokenizer(y, return_tensors=\"pt\", truncation=True, padding=True).to(device)\n",
    "        y_op = self.model_bert(**y_tok, output_hidden_states=True)\n",
    "        y_op_rep = y_op.hidden_states[-1][:,1,:]\n",
    "        x_op = self.linear(x_bert_rep)\n",
    "        #print(x_input.size())\n",
    "        #print(y.size())\n",
    "        op = torch.sum(x_op*y_op_rep, dim=1)\n",
    "        #print(op.shape)\n",
    "        return op"
   ]
  },
  {
   "cell_type": "code",
   "execution_count": 32,
   "id": "925968f0",
   "metadata": {},
   "outputs": [
    {
     "name": "stdout",
     "output_type": "stream",
     "text": [
      "RetentionNetwork(\n",
      "  (linear): Sequential(\n",
      "    (0): Linear(in_features=512, out_features=512, bias=False)\n",
      "  )\n",
      "  (model_bert): BertForMaskedLM(\n",
      "    (bert): BertModel(\n",
      "      (embeddings): BertEmbeddings(\n",
      "        (word_embeddings): Embedding(527, 512, padding_idx=0)\n",
      "        (position_embeddings): Embedding(514, 512)\n",
      "        (token_type_embeddings): Embedding(1, 512)\n",
      "        (LayerNorm): LayerNorm((512,), eps=1e-12, elementwise_affine=True)\n",
      "        (dropout): Dropout(p=0.1, inplace=False)\n",
      "      )\n",
      "      (encoder): BertEncoder(\n",
      "        (layer): ModuleList(\n",
      "          (0): BertLayer(\n",
      "            (attention): BertAttention(\n",
      "              (self): BertSelfAttention(\n",
      "                (query): Linear(in_features=512, out_features=512, bias=True)\n",
      "                (key): Linear(in_features=512, out_features=512, bias=True)\n",
      "                (value): Linear(in_features=512, out_features=512, bias=True)\n",
      "                (dropout): Dropout(p=0.1, inplace=False)\n",
      "              )\n",
      "              (output): BertSelfOutput(\n",
      "                (dense): Linear(in_features=512, out_features=512, bias=True)\n",
      "                (LayerNorm): LayerNorm((512,), eps=1e-12, elementwise_affine=True)\n",
      "                (dropout): Dropout(p=0.1, inplace=False)\n",
      "              )\n",
      "            )\n",
      "            (intermediate): BertIntermediate(\n",
      "              (dense): Linear(in_features=512, out_features=3072, bias=True)\n",
      "              (intermediate_act_fn): GELUActivation()\n",
      "            )\n",
      "            (output): BertOutput(\n",
      "              (dense): Linear(in_features=3072, out_features=512, bias=True)\n",
      "              (LayerNorm): LayerNorm((512,), eps=1e-12, elementwise_affine=True)\n",
      "              (dropout): Dropout(p=0.1, inplace=False)\n",
      "            )\n",
      "          )\n",
      "          (1): BertLayer(\n",
      "            (attention): BertAttention(\n",
      "              (self): BertSelfAttention(\n",
      "                (query): Linear(in_features=512, out_features=512, bias=True)\n",
      "                (key): Linear(in_features=512, out_features=512, bias=True)\n",
      "                (value): Linear(in_features=512, out_features=512, bias=True)\n",
      "                (dropout): Dropout(p=0.1, inplace=False)\n",
      "              )\n",
      "              (output): BertSelfOutput(\n",
      "                (dense): Linear(in_features=512, out_features=512, bias=True)\n",
      "                (LayerNorm): LayerNorm((512,), eps=1e-12, elementwise_affine=True)\n",
      "                (dropout): Dropout(p=0.1, inplace=False)\n",
      "              )\n",
      "            )\n",
      "            (intermediate): BertIntermediate(\n",
      "              (dense): Linear(in_features=512, out_features=3072, bias=True)\n",
      "              (intermediate_act_fn): GELUActivation()\n",
      "            )\n",
      "            (output): BertOutput(\n",
      "              (dense): Linear(in_features=3072, out_features=512, bias=True)\n",
      "              (LayerNorm): LayerNorm((512,), eps=1e-12, elementwise_affine=True)\n",
      "              (dropout): Dropout(p=0.1, inplace=False)\n",
      "            )\n",
      "          )\n",
      "        )\n",
      "      )\n",
      "    )\n",
      "    (cls): BertOnlyMLMHead(\n",
      "      (predictions): BertLMPredictionHead(\n",
      "        (transform): BertPredictionHeadTransform(\n",
      "          (dense): Linear(in_features=512, out_features=512, bias=True)\n",
      "          (transform_act_fn): GELUActivation()\n",
      "          (LayerNorm): LayerNorm((512,), eps=1e-12, elementwise_affine=True)\n",
      "        )\n",
      "        (decoder): Linear(in_features=512, out_features=527, bias=True)\n",
      "      )\n",
      "    )\n",
      "  )\n",
      ")\n"
     ]
    }
   ],
   "source": [
    "device = torch.device('cuda') if torch.cuda.is_available() else torch.device('cpu')\n",
    "model = RetentionNetwork().to(device)\n",
    "print(model)"
   ]
  },
  {
   "cell_type": "code",
   "execution_count": 33,
   "id": "1401f8b9",
   "metadata": {},
   "outputs": [
    {
     "data": {
      "text/plain": [
       "BertOnlyMLMHead(\n",
       "  (predictions): BertLMPredictionHead(\n",
       "    (transform): BertPredictionHeadTransform(\n",
       "      (dense): Linear(in_features=512, out_features=512, bias=True)\n",
       "      (transform_act_fn): GELUActivation()\n",
       "      (LayerNorm): LayerNorm((512,), eps=1e-12, elementwise_affine=True)\n",
       "    )\n",
       "    (decoder): Linear(in_features=512, out_features=527, bias=True)\n",
       "  )\n",
       ")"
      ]
     },
     "execution_count": 33,
     "metadata": {},
     "output_type": "execute_result"
    }
   ],
   "source": [
    "model.model_bert.cls"
   ]
  },
  {
   "cell_type": "code",
   "execution_count": 357,
   "id": "0732c59a",
   "metadata": {},
   "outputs": [
    {
     "name": "stdout",
     "output_type": "stream",
     "text": [
      "linear.0.weight True\n",
      "model_bert.bert.embeddings.word_embeddings.weight True\n",
      "model_bert.bert.embeddings.position_embeddings.weight True\n",
      "model_bert.bert.embeddings.token_type_embeddings.weight True\n",
      "model_bert.bert.embeddings.LayerNorm.weight True\n",
      "model_bert.bert.embeddings.LayerNorm.bias True\n",
      "model_bert.bert.encoder.layer.0.attention.self.query.weight True\n",
      "model_bert.bert.encoder.layer.0.attention.self.query.bias True\n",
      "model_bert.bert.encoder.layer.0.attention.self.key.weight True\n",
      "model_bert.bert.encoder.layer.0.attention.self.key.bias True\n",
      "model_bert.bert.encoder.layer.0.attention.self.value.weight True\n",
      "model_bert.bert.encoder.layer.0.attention.self.value.bias True\n",
      "model_bert.bert.encoder.layer.0.attention.output.dense.weight True\n",
      "model_bert.bert.encoder.layer.0.attention.output.dense.bias True\n",
      "model_bert.bert.encoder.layer.0.attention.output.LayerNorm.weight True\n",
      "model_bert.bert.encoder.layer.0.attention.output.LayerNorm.bias True\n",
      "model_bert.bert.encoder.layer.0.intermediate.dense.weight True\n",
      "model_bert.bert.encoder.layer.0.intermediate.dense.bias True\n",
      "model_bert.bert.encoder.layer.0.output.dense.weight True\n",
      "model_bert.bert.encoder.layer.0.output.dense.bias True\n",
      "model_bert.bert.encoder.layer.0.output.LayerNorm.weight True\n",
      "model_bert.bert.encoder.layer.0.output.LayerNorm.bias True\n",
      "model_bert.bert.encoder.layer.1.attention.self.query.weight True\n",
      "model_bert.bert.encoder.layer.1.attention.self.query.bias True\n",
      "model_bert.bert.encoder.layer.1.attention.self.key.weight True\n",
      "model_bert.bert.encoder.layer.1.attention.self.key.bias True\n",
      "model_bert.bert.encoder.layer.1.attention.self.value.weight True\n",
      "model_bert.bert.encoder.layer.1.attention.self.value.bias True\n",
      "model_bert.bert.encoder.layer.1.attention.output.dense.weight True\n",
      "model_bert.bert.encoder.layer.1.attention.output.dense.bias True\n",
      "model_bert.bert.encoder.layer.1.attention.output.LayerNorm.weight True\n",
      "model_bert.bert.encoder.layer.1.attention.output.LayerNorm.bias True\n",
      "model_bert.bert.encoder.layer.1.intermediate.dense.weight True\n",
      "model_bert.bert.encoder.layer.1.intermediate.dense.bias True\n",
      "model_bert.bert.encoder.layer.1.output.dense.weight True\n",
      "model_bert.bert.encoder.layer.1.output.dense.bias True\n",
      "model_bert.bert.encoder.layer.1.output.LayerNorm.weight True\n",
      "model_bert.bert.encoder.layer.1.output.LayerNorm.bias True\n",
      "model_bert.cls.predictions.bias True\n",
      "model_bert.cls.predictions.transform.dense.weight True\n",
      "model_bert.cls.predictions.transform.dense.bias True\n",
      "model_bert.cls.predictions.transform.LayerNorm.weight True\n",
      "model_bert.cls.predictions.transform.LayerNorm.bias True\n"
     ]
    }
   ],
   "source": [
    "for name, param in model.named_parameters():\n",
    "        print(\"{} {}\".format(name, param.requires_grad))"
   ]
  },
  {
   "cell_type": "code",
   "execution_count": 34,
   "id": "25ee1cc2",
   "metadata": {},
   "outputs": [],
   "source": [
    "import torch.optim as optim\n",
    "import torchmetrics\n",
    "\n",
    "#criterion = nn.functional.binary_cross_entropy()\n",
    "criterion = nn.BCEWithLogitsLoss()\n",
    "#optimizer = optim.Adam(model.parameters(), lr=0.001, momentum=0.9)\n",
    "optimizer = optim.Adam(model.parameters(), lr=0.001)"
   ]
  },
  {
   "cell_type": "code",
   "execution_count": 35,
   "id": "fcfc7d11",
   "metadata": {},
   "outputs": [
    {
     "name": "stderr",
     "output_type": "stream",
     "text": [
      "  0%|                                                  | 0/1211 [00:00<?, ?it/s]Asking to truncate to max_length but no maximum length is provided and the model has no predefined maximum length. Default to no truncation.\n",
      "100%|███████████████████████████████████████| 1211/1211 [02:55<00:00,  6.91it/s]\n",
      "100%|█████████████████████████████████████████| 152/152 [00:17<00:00,  8.49it/s]"
     ]
    },
    {
     "name": "stdout",
     "output_type": "stream",
     "text": [
      "saving best model\n"
     ]
    },
    {
     "name": "stderr",
     "output_type": "stream",
     "text": [
      "\n"
     ]
    },
    {
     "ename": "NameError",
     "evalue": "name 'checkpoint_path' is not defined",
     "output_type": "error",
     "traceback": [
      "\u001b[0;31m---------------------------------------------------------------------------\u001b[0m",
      "\u001b[0;31mNameError\u001b[0m                                 Traceback (most recent call last)",
      "\u001b[0;32m/tmp/ipykernel_507167/80927046.py\u001b[0m in \u001b[0;36m<module>\u001b[0;34m\u001b[0m\n\u001b[1;32m     76\u001b[0m             \u001b[0;34m'loss'\u001b[0m\u001b[0;34m:\u001b[0m \u001b[0mval_loss\u001b[0m\u001b[0;34m,\u001b[0m\u001b[0;34m\u001b[0m\u001b[0;34m\u001b[0m\u001b[0m\n\u001b[1;32m     77\u001b[0m             \u001b[0;34m'accuracy'\u001b[0m\u001b[0;34m:\u001b[0m \u001b[0mval_acc\u001b[0m\u001b[0;34m,\u001b[0m\u001b[0;34m\u001b[0m\u001b[0;34m\u001b[0m\u001b[0m\n\u001b[0;32m---> 78\u001b[0;31m             }, checkpoint_path)\n\u001b[0m\u001b[1;32m     79\u001b[0m         \u001b[0mval_acc_max\u001b[0m \u001b[0;34m=\u001b[0m \u001b[0mval_acc\u001b[0m\u001b[0;34m\u001b[0m\u001b[0;34m\u001b[0m\u001b[0m\n\u001b[1;32m     80\u001b[0m     \u001b[0;32melse\u001b[0m\u001b[0;34m:\u001b[0m\u001b[0;34m\u001b[0m\u001b[0;34m\u001b[0m\u001b[0m\n",
      "\u001b[0;31mNameError\u001b[0m: name 'checkpoint_path' is not defined"
     ]
    }
   ],
   "source": [
    "epoch_loss_list = []\n",
    "accuracy_list = []\n",
    "val_loss_list = []\n",
    "val_acc_list = []\n",
    "valid_acc_max = 0 \n",
    "\n",
    "for epoch in range(2):  # loop over the dataset multiple times\n",
    "    train_count = 0\n",
    "    model.train()\n",
    "    epoch_loss = 0.0\n",
    "    accuracy = 0.0\n",
    "    \n",
    "    #for ind in tqdm(range(len(df_short)))\n",
    "    for c, q, labels in tqdm(train_loader):\n",
    "        train_count = train_count+1\n",
    "        #context = torch.tensor(model_sent_trans.encode(list(c))).to(device)\n",
    "        #context = get_rep(c, is_context=True)\n",
    "        #print(context.size())\n",
    "        \n",
    "        #query = torch.tensor(model_sent_trans.encode(list(q))).to(device)\n",
    "        #query = get_rep(q, is_context=False)\n",
    "        \n",
    "        target = labels.to(device)\n",
    "        #label = torch.tensor(labels.float()).to(device)\n",
    "        label = labels.float().to(device)\n",
    "        #print(context.size())\n",
    "        #print(query.size())     \n",
    "        \n",
    "        # zero the parameter gradients\n",
    "        optimizer.zero_grad()\n",
    "\n",
    "        # forward + backward + optimize\n",
    "        outputs = model(c, q)\n",
    "        #loss = criterion(outputs, labels)\n",
    "        loss = criterion(outputs, label)\n",
    "        loss.backward()\n",
    "\n",
    "        optimizer.step()\n",
    "        #print(loss.item())\n",
    "        # print statistics\n",
    "        #running_loss += loss.item()\n",
    "        epoch_loss += loss.item()\n",
    "        accuracy += torchmetrics.functional.accuracy(outputs, target, threshold=0.5).item()\n",
    "        #if i % 2000 == 1999:    # print every 2000 mini-batches\n",
    "        #print(f'[{epoch + 1}, {i + 1:5d}] loss: {running_loss / 2000:.3f}')\n",
    "        #running_loss = 0.0\n",
    "    model.eval()\n",
    "    val_loss = 0.0\n",
    "    val_acc = 0.0\n",
    "    \n",
    "    test_count = 0\n",
    "    for c, q, labels in tqdm(val_loader):\n",
    "        test_count = test_count + 1\n",
    "        #context = get_rep(c, is_context=True)\n",
    "        #query = get_rep(q, is_context=False)\n",
    "\n",
    "        target = labels.to(device)\n",
    "        label = labels.float().to(device)\n",
    "        \n",
    "        outputs = model(c, q)\n",
    "        loss = criterion(outputs, label)\n",
    "        val_loss += loss.item()\n",
    "        val_acc += torchmetrics.functional.accuracy(outputs, target, threshold=0.5).item()\n",
    "        \n",
    "    accuracy = accuracy / train_count\n",
    "    epoch_loss = epoch_loss / train_count\n",
    "    val_loss = val_loss / test_count\n",
    "    val_acc = val_acc / test_count\n",
    "    \n",
    "    if val_acc > valid_acc_max:\n",
    "        print(\"saving best model\")\n",
    "        torch.save({\n",
    "            'epoch': epoch,\n",
    "            'model_state_dict': model.state_dict(),\n",
    "            'optimizer_state_dict': optimizer.state_dict(),\n",
    "            'loss': val_loss,\n",
    "            'accuracy': val_acc,\n",
    "            }, checkpoint_path)\n",
    "        val_acc_max = val_acc\n",
    "    else:\n",
    "        print(\"not saving the model\")\n",
    "    \n",
    "    print(f'[{epoch + 1}, {i + 1:5d}] Training loss: {epoch_loss:.3f} Training accuracy : {accuracy:.3f}')\n",
    "    print(f'[{epoch + 1}, {i + 1:5d}] Validation loss: {val_loss:.3f} Validation accuracy : {val_acc:.3f}')\n",
    "    epoch_loss_list.append(epoch_loss)\n",
    "    accuracy_list.append(accuracy)\n",
    "    val_loss_list.append(val_loss)\n",
    "    val_acc_list.append(val_acc)\n",
    "\n",
    "print('Finished Training')"
   ]
  },
  {
   "cell_type": "code",
   "execution_count": 335,
   "id": "1297025b",
   "metadata": {},
   "outputs": [
    {
     "name": "stdout",
     "output_type": "stream",
     "text": [
      "Finished training\n"
     ]
    }
   ],
   "source": [
    "print(\"Finished training\")"
   ]
  },
  {
   "cell_type": "code",
   "execution_count": 336,
   "id": "78deabf3",
   "metadata": {},
   "outputs": [
    {
     "data": {
      "text/plain": [
       "[<matplotlib.lines.Line2D at 0x7f48309371d0>]"
      ]
     },
     "execution_count": 336,
     "metadata": {},
     "output_type": "execute_result"
    },
    {
     "data": {
      "image/png": "[encoded data removed]",
      "text/plain": [
       "<Figure size 432x288 with 1 Axes>"
      ]
     },
     "metadata": {
      "needs_background": "light"
     },
     "output_type": "display_data"
    }
   ],
   "source": [
    "import matplotlib.pyplot as plt\n",
    "plt.plot(accuracy_list)"
   ]
  },
  {
   "cell_type": "code",
   "execution_count": 348,
   "id": "1d4f7c86",
   "metadata": {},
   "outputs": [
    {
     "data": {
      "text/plain": [
       "[<matplotlib.lines.Line2D at 0x7f482f452350>]"
      ]
     },
     "execution_count": 348,
     "metadata": {},
     "output_type": "execute_result"
    },
    {
     "data": {
      "image/png": "[encoded data removed]",
      "text/plain": [
       "<Figure size 432x288 with 1 Axes>"
      ]
     },
     "metadata": {
      "needs_background": "light"
     },
     "output_type": "display_data"
    }
   ],
   "source": [
    "plt.plot(epoch_loss_list)"
   ]
  },
  {
   "cell_type": "code",
   "execution_count": 339,
   "id": "425138e9",
   "metadata": {},
   "outputs": [
    {
     "data": {
      "text/plain": [
       "RetentionNetwork(\n",
       "  (linear): Sequential(\n",
       "    (0): Linear(in_features=512, out_features=512, bias=True)\n",
       "  )\n",
       "  (model_bert): BertForMaskedLM(\n",
       "    (bert): BertModel(\n",
       "      (embeddings): BertEmbeddings(\n",
       "        (word_embeddings): Embedding(527, 512, padding_idx=0)\n",
       "        (position_embeddings): Embedding(514, 512)\n",
       "        (token_type_embeddings): Embedding(1, 512)\n",
       "        (LayerNorm): LayerNorm((512,), eps=1e-12, elementwise_affine=True)\n",
       "        (dropout): Dropout(p=0.1, inplace=False)\n",
       "      )\n",
       "      (encoder): BertEncoder(\n",
       "        (layer): ModuleList(\n",
       "          (0): BertLayer(\n",
       "            (attention): BertAttention(\n",
       "              (self): BertSelfAttention(\n",
       "                (query): Linear(in_features=512, out_features=512, bias=True)\n",
       "                (key): Linear(in_features=512, out_features=512, bias=True)\n",
       "                (value): Linear(in_features=512, out_features=512, bias=True)\n",
       "                (dropout): Dropout(p=0.1, inplace=False)\n",
       "              )\n",
       "              (output): BertSelfOutput(\n",
       "                (dense): Linear(in_features=512, out_features=512, bias=True)\n",
       "                (LayerNorm): LayerNorm((512,), eps=1e-12, elementwise_affine=True)\n",
       "                (dropout): Dropout(p=0.1, inplace=False)\n",
       "              )\n",
       "            )\n",
       "            (intermediate): BertIntermediate(\n",
       "              (dense): Linear(in_features=512, out_features=3072, bias=True)\n",
       "              (intermediate_act_fn): GELUActivation()\n",
       "            )\n",
       "            (output): BertOutput(\n",
       "              (dense): Linear(in_features=3072, out_features=512, bias=True)\n",
       "              (LayerNorm): LayerNorm((512,), eps=1e-12, elementwise_affine=True)\n",
       "              (dropout): Dropout(p=0.1, inplace=False)\n",
       "            )\n",
       "          )\n",
       "          (1): BertLayer(\n",
       "            (attention): BertAttention(\n",
       "              (self): BertSelfAttention(\n",
       "                (query): Linear(in_features=512, out_features=512, bias=True)\n",
       "                (key): Linear(in_features=512, out_features=512, bias=True)\n",
       "                (value): Linear(in_features=512, out_features=512, bias=True)\n",
       "                (dropout): Dropout(p=0.1, inplace=False)\n",
       "              )\n",
       "              (output): BertSelfOutput(\n",
       "                (dense): Linear(in_features=512, out_features=512, bias=True)\n",
       "                (LayerNorm): LayerNorm((512,), eps=1e-12, elementwise_affine=True)\n",
       "                (dropout): Dropout(p=0.1, inplace=False)\n",
       "              )\n",
       "            )\n",
       "            (intermediate): BertIntermediate(\n",
       "              (dense): Linear(in_features=512, out_features=3072, bias=True)\n",
       "              (intermediate_act_fn): GELUActivation()\n",
       "            )\n",
       "            (output): BertOutput(\n",
       "              (dense): Linear(in_features=3072, out_features=512, bias=True)\n",
       "              (LayerNorm): LayerNorm((512,), eps=1e-12, elementwise_affine=True)\n",
       "              (dropout): Dropout(p=0.1, inplace=False)\n",
       "            )\n",
       "          )\n",
       "        )\n",
       "      )\n",
       "    )\n",
       "    (cls): BertOnlyMLMHead(\n",
       "      (predictions): BertLMPredictionHead(\n",
       "        (transform): BertPredictionHeadTransform(\n",
       "          (dense): Linear(in_features=512, out_features=512, bias=True)\n",
       "          (transform_act_fn): GELUActivation()\n",
       "          (LayerNorm): LayerNorm((512,), eps=1e-12, elementwise_affine=True)\n",
       "        )\n",
       "        (decoder): Linear(in_features=512, out_features=527, bias=True)\n",
       "      )\n",
       "    )\n",
       "  )\n",
       ")"
      ]
     },
     "execution_count": 339,
     "metadata": {},
     "output_type": "execute_result"
    }
   ],
   "source": [
    "model = model = RetentionNetwork().to(device)\n",
    "optimizer = optim.Adam(model.parameters(), lr=0.001)\n",
    "PATH = checkpoint_path\n",
    "checkpoint = torch.load(PATH)\n",
    "model.load_state_dict(checkpoint['model_state_dict'])\n",
    "optimizer.load_state_dict(checkpoint['optimizer_state_dict'])\n",
    "epoch = checkpoint['epoch']\n",
    "loss = checkpoint['loss']\n",
    "\n",
    "# inferece\n",
    "model.eval()"
   ]
  },
  {
   "cell_type": "code",
   "execution_count": 341,
   "id": "16ae7020",
   "metadata": {},
   "outputs": [
    {
     "name": "stderr",
     "output_type": "stream",
     "text": [
      "100%|███████████████████████████████████████| 152/152 [00:34<00:00,  4.43it/s]\n"
     ]
    }
   ],
   "source": [
    "test_count = 0\n",
    "output_logits = []\n",
    "for c, q, labels in tqdm(test_loader):\n",
    "\n",
    "    target = labels.to(device)\n",
    "    label = labels.float().to(device)\n",
    "    outputs = model(c, q).detach().cpu().numpy()\n",
    "        \n",
    "    outputs = model(c, q).detach().cpu().numpy()\n",
    "    output_logits.append(outputs)"
   ]
  },
  {
   "cell_type": "code",
   "execution_count": 343,
   "id": "fa14152b",
   "metadata": {},
   "outputs": [
    {
     "data": {
      "text/plain": [
       "199"
      ]
     },
     "execution_count": 343,
     "metadata": {},
     "output_type": "execute_result"
    }
   ],
   "source": [
    "epoch"
   ]
  },
  {
   "cell_type": "code",
   "execution_count": 344,
   "id": "6030b57b",
   "metadata": {},
   "outputs": [
    {
     "data": {
      "text/plain": [
       "0.5001385513889162"
      ]
     },
     "execution_count": 344,
     "metadata": {},
     "output_type": "execute_result"
    }
   ],
   "source": [
    "val_acc_list[199]"
   ]
  },
  {
   "cell_type": "code",
   "execution_count": null,
   "id": "c1c6d947",
   "metadata": {},
   "outputs": [],
   "source": []
  }
 ],
 "metadata": {
  "kernelspec": {
   "display_name": "Python 3 (ipykernel)",
   "language": "python",
   "name": "python3"
  },
  "language_info": {
   "codemirror_mode": {
    "name": "ipython",
    "version": 3
   },
   "file_extension": ".py",
   "mimetype": "text/x-python",
   "name": "python",
   "nbconvert_exporter": "python",
   "pygments_lexer": "ipython3",
   "version": "3.7.13"
  }
 },
 "nbformat": 4,
 "nbformat_minor": 5
}
