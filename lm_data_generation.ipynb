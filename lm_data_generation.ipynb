{
 "cells": [
  {
   "cell_type": "code",
   "execution_count": 1,
   "id": "8fd8cbbc",
   "metadata": {},
   "outputs": [],
   "source": [
    "import torch\n",
    "import requests\n",
    "from pathlib import Path\n",
    "import hashlib\n",
    "import re\n",
    "import sys\n",
    "import tarfile\n",
    "import pandas as pd\n",
    "pd.options.display.max_colwidth = 100\n",
    "pd.set_option('display.max_colwidth', None)"
   ]
  },
  {
   "cell_type": "code",
   "execution_count": 2,
   "id": "93eb79ae",
   "metadata": {},
   "outputs": [
    {
     "name": "stdout",
     "output_type": "stream",
     "text": [
      "Requirement already satisfied: transformers in /opt/conda/envs/tf14/lib/python3.7/site-packages (4.19.4)\n",
      "Collecting transformers\n",
      "  Downloading transformers-4.20.0-py3-none-any.whl (4.4 MB)\n",
      "\u001b[K     |████████████████████████████████| 4.4 MB 4.4 MB/s eta 0:00:01\n",
      "\u001b[?25hRequirement already satisfied: pyyaml>=5.1 in /opt/conda/envs/tf14/lib/python3.7/site-packages (from transformers) (6.0)\n",
      "Requirement already satisfied: huggingface-hub<1.0,>=0.1.0 in /opt/conda/envs/tf14/lib/python3.7/site-packages (from transformers) (0.5.1)\n",
      "Requirement already satisfied: importlib-metadata in /opt/conda/envs/tf14/lib/python3.7/site-packages (from transformers) (4.11.3)\n",
      "Requirement already satisfied: numpy>=1.17 in /opt/conda/envs/tf14/lib/python3.7/site-packages (from transformers) (1.21.5)\n",
      "Requirement already satisfied: tqdm>=4.27 in /opt/conda/envs/tf14/lib/python3.7/site-packages (from transformers) (4.64.0)\n",
      "Requirement already satisfied: tokenizers!=0.11.3,<0.13,>=0.11.1 in /opt/conda/envs/tf14/lib/python3.7/site-packages (from transformers) (0.11.6)\n",
      "Requirement already satisfied: packaging>=20.0 in /opt/conda/envs/tf14/lib/python3.7/site-packages (from transformers) (21.3)\n",
      "Requirement already satisfied: regex!=2019.12.17 in /opt/conda/envs/tf14/lib/python3.7/site-packages (from transformers) (2022.3.15)\n",
      "Requirement already satisfied: requests in /opt/conda/envs/tf14/lib/python3.7/site-packages (from transformers) (2.27.1)\n",
      "Requirement already satisfied: filelock in /opt/conda/envs/tf14/lib/python3.7/site-packages (from transformers) (3.6.0)\n",
      "Requirement already satisfied: typing-extensions>=3.7.4.3 in /opt/conda/envs/tf14/lib/python3.7/site-packages (from huggingface-hub<1.0,>=0.1.0->transformers) (3.10.0.2)\n",
      "Requirement already satisfied: pyparsing!=3.0.5,>=2.0.2 in /opt/conda/envs/tf14/lib/python3.7/site-packages (from packaging>=20.0->transformers) (2.4.7)\n",
      "Requirement already satisfied: zipp>=0.5 in /opt/conda/envs/tf14/lib/python3.7/site-packages (from importlib-metadata->transformers) (3.7.0)\n",
      "Requirement already satisfied: urllib3<1.27,>=1.21.1 in /opt/conda/envs/tf14/lib/python3.7/site-packages (from requests->transformers) (1.24.3)\n",
      "Requirement already satisfied: certifi>=2017.4.17 in /opt/conda/envs/tf14/lib/python3.7/site-packages (from requests->transformers) (2021.10.8)\n",
      "Requirement already satisfied: idna<4,>=2.5 in /opt/conda/envs/tf14/lib/python3.7/site-packages (from requests->transformers) (2.8)\n",
      "Requirement already satisfied: charset-normalizer~=2.0.0 in /opt/conda/envs/tf14/lib/python3.7/site-packages (from requests->transformers) (2.0.12)\n",
      "Installing collected packages: transformers\n",
      "  Attempting uninstall: transformers\n",
      "    Found existing installation: transformers 4.19.4\n",
      "    Uninstalling transformers-4.19.4:\n",
      "      Successfully uninstalled transformers-4.19.4\n",
      "Successfully installed transformers-4.20.0\n",
      "\u001b[33mWARNING: Running pip as the 'root' user can result in broken permissions and conflicting behaviour with the system package manager. It is recommended to use a virtual environment instead: https://pip.pypa.io/warnings/venv\u001b[0m\n"
     ]
    }
   ],
   "source": [
    "!pip install --upgrade transformers"
   ]
  },
  {
   "cell_type": "code",
   "execution_count": 3,
   "id": "e2db35b6",
   "metadata": {},
   "outputs": [
    {
     "name": "stdout",
     "output_type": "stream",
     "text": [
      "Using cuda device\n"
     ]
    }
   ],
   "source": [
    "device = \"cuda\" if torch.cuda.is_available() else \"cpu\"\n",
    "print(f\"Using {device} device\")"
   ]
  },
  {
   "cell_type": "code",
   "execution_count": 4,
   "id": "03c9e577",
   "metadata": {},
   "outputs": [
    {
     "data": {
      "text/plain": [
       "189603606"
      ]
     },
     "execution_count": 4,
     "metadata": {},
     "output_type": "execute_result"
    }
   ],
   "source": [
    "# Download the dataset\n",
    "import requests\n",
    "\n",
    "fname = 'wikitext-103.tar.gz'\n",
    "url = 'https://dax-cdn.cdn.appdomain.cloud/dax-wikitext-103/1.0.1/' + fname\n",
    "r = requests.get(url)\n",
    "Path(fname).write_bytes(r.content)"
   ]
  },
  {
   "cell_type": "code",
   "execution_count": 5,
   "id": "dd2ce4e1",
   "metadata": {},
   "outputs": [
    {
     "data": {
      "text/plain": [
       "True"
      ]
     },
     "execution_count": 5,
     "metadata": {},
     "output_type": "execute_result"
    }
   ],
   "source": [
    "# Verify the file was downloaded properly by comparing sha512 checksums\n",
    "sha512sum = 'c8186919aa1840af6b734ea41abc580574ea8efe2fafda220f5d01002464d17566d84be5199b875136c9593f0e0678fb5d7c84bb2231de8b4151cb9c83fa2109'\n",
    "sha512sum_computed = hashlib.sha512(Path('wikitext-103.tar.gz').read_bytes()).hexdigest()\n",
    "sha512sum == sha512sum_computed"
   ]
  },
  {
   "cell_type": "code",
   "execution_count": 6,
   "id": "1b16a404",
   "metadata": {},
   "outputs": [],
   "source": [
    "# Extract the dataset\n",
    "with tarfile.open(fname) as tar:\n",
    "    tar.extractall()"
   ]
  },
  {
   "cell_type": "code",
   "execution_count": 7,
   "id": "a9ce5844",
   "metadata": {},
   "outputs": [],
   "source": [
    "test_data = Path('wikitext-103/wiki.test.tokens').read_text()"
   ]
  },
  {
   "cell_type": "code",
   "execution_count": 8,
   "id": "a5a7087a",
   "metadata": {},
   "outputs": [],
   "source": [
    "# Store regular expression pattern to search for wikipedia article headings\n",
    "heading_pattern = '( \\n \\n = [^=]*[^=] = \\n \\n )'"
   ]
  },
  {
   "cell_type": "code",
   "execution_count": 9,
   "id": "ae08b97a",
   "metadata": {},
   "outputs": [],
   "source": [
    "# Split out test headings and articles\n",
    "test_split = re.split(heading_pattern, test_data)\n",
    "test_headings = [x[7:-7] for x in test_split[1::2]]\n",
    "test_articles = [x for x in test_split[2::2]]"
   ]
  },
  {
   "cell_type": "code",
   "execution_count": 10,
   "id": "d08db553",
   "metadata": {},
   "outputs": [],
   "source": [
    "# Do we need tokens . and , and '? for now retain as span bert may rely on them for predictions\n",
    "# remove any unkowns in the sentence as well\n",
    "clean_articles = []\n",
    "for idx in range(len(test_articles)):\n",
    "    clean_text = re.sub('[^ a-zA-Z0-9.\\',?]|unk', '', test_articles[idx])\n",
    "    clean_text = re.sub(' +', ' ', clean_text)\n",
    "    clean_articles.append(clean_text)\n",
    "\n",
    "\n"
   ]
  },
  {
   "cell_type": "code",
   "execution_count": 24,
   "id": "c1474879",
   "metadata": {},
   "outputs": [
    {
     "name": "stdout",
     "output_type": "stream",
     "text": [
      "19606\n"
     ]
    }
   ],
   "source": [
    "unique_words = set()\n",
    "for a in clean_articles:\n",
    "    unique_words = unique_words.union(set(a.split(\" \")))\n",
    "print(len(unique_words))"
   ]
  },
  {
   "cell_type": "code",
   "execution_count": 11,
   "id": "6542922f",
   "metadata": {},
   "outputs": [
    {
     "name": "stderr",
     "output_type": "stream",
     "text": [
      "/opt/conda/envs/tf14/lib/python3.7/site-packages/sklearn/feature_extraction/image.py:167: DeprecationWarning: `np.int` is a deprecated alias for the builtin `int`. To silence this warning, use `int` by itself. Doing this will not modify any behavior and is safe. When replacing `np.int`, you may wish to use e.g. `np.int64` or `np.int32` to specify the precision. If you wish to review your current use, check the release note link for additional information.\n",
      "Deprecated in NumPy 1.20; for more details and guidance: https://numpy.org/devdocs/release/1.20.0-notes.html#deprecations\n",
      "  dtype=np.int):\n",
      "/opt/conda/envs/tf14/lib/python3.7/site-packages/sklearn/linear_model/least_angle.py:30: DeprecationWarning: `np.float` is a deprecated alias for the builtin `float`. To silence this warning, use `float` by itself. Doing this will not modify any behavior and is safe. If you specifically wanted the numpy scalar type, use `np.float64` here.\n",
      "Deprecated in NumPy 1.20; for more details and guidance: https://numpy.org/devdocs/release/1.20.0-notes.html#deprecations\n",
      "  method='lar', copy_X=True, eps=np.finfo(np.float).eps,\n",
      "/opt/conda/envs/tf14/lib/python3.7/site-packages/sklearn/linear_model/least_angle.py:167: DeprecationWarning: `np.float` is a deprecated alias for the builtin `float`. To silence this warning, use `float` by itself. Doing this will not modify any behavior and is safe. If you specifically wanted the numpy scalar type, use `np.float64` here.\n",
      "Deprecated in NumPy 1.20; for more details and guidance: https://numpy.org/devdocs/release/1.20.0-notes.html#deprecations\n",
      "  method='lar', copy_X=True, eps=np.finfo(np.float).eps,\n",
      "/opt/conda/envs/tf14/lib/python3.7/site-packages/sklearn/linear_model/least_angle.py:284: DeprecationWarning: `np.float` is a deprecated alias for the builtin `float`. To silence this warning, use `float` by itself. Doing this will not modify any behavior and is safe. If you specifically wanted the numpy scalar type, use `np.float64` here.\n",
      "Deprecated in NumPy 1.20; for more details and guidance: https://numpy.org/devdocs/release/1.20.0-notes.html#deprecations\n",
      "  eps=np.finfo(np.float).eps, copy_Gram=True, verbose=0,\n",
      "/opt/conda/envs/tf14/lib/python3.7/site-packages/sklearn/linear_model/least_angle.py:862: DeprecationWarning: `np.float` is a deprecated alias for the builtin `float`. To silence this warning, use `float` by itself. Doing this will not modify any behavior and is safe. If you specifically wanted the numpy scalar type, use `np.float64` here.\n",
      "Deprecated in NumPy 1.20; for more details and guidance: https://numpy.org/devdocs/release/1.20.0-notes.html#deprecations\n",
      "  eps=np.finfo(np.float).eps, copy_X=True, fit_path=True,\n",
      "/opt/conda/envs/tf14/lib/python3.7/site-packages/sklearn/linear_model/least_angle.py:1101: DeprecationWarning: `np.float` is a deprecated alias for the builtin `float`. To silence this warning, use `float` by itself. Doing this will not modify any behavior and is safe. If you specifically wanted the numpy scalar type, use `np.float64` here.\n",
      "Deprecated in NumPy 1.20; for more details and guidance: https://numpy.org/devdocs/release/1.20.0-notes.html#deprecations\n",
      "  eps=np.finfo(np.float).eps, copy_X=True, fit_path=True,\n",
      "/opt/conda/envs/tf14/lib/python3.7/site-packages/sklearn/linear_model/least_angle.py:1127: DeprecationWarning: `np.float` is a deprecated alias for the builtin `float`. To silence this warning, use `float` by itself. Doing this will not modify any behavior and is safe. If you specifically wanted the numpy scalar type, use `np.float64` here.\n",
      "Deprecated in NumPy 1.20; for more details and guidance: https://numpy.org/devdocs/release/1.20.0-notes.html#deprecations\n",
      "  eps=np.finfo(np.float).eps, positive=False):\n",
      "/opt/conda/envs/tf14/lib/python3.7/site-packages/sklearn/linear_model/least_angle.py:1362: DeprecationWarning: `np.float` is a deprecated alias for the builtin `float`. To silence this warning, use `float` by itself. Doing this will not modify any behavior and is safe. If you specifically wanted the numpy scalar type, use `np.float64` here.\n",
      "Deprecated in NumPy 1.20; for more details and guidance: https://numpy.org/devdocs/release/1.20.0-notes.html#deprecations\n",
      "  max_n_alphas=1000, n_jobs=None, eps=np.finfo(np.float).eps,\n",
      "/opt/conda/envs/tf14/lib/python3.7/site-packages/sklearn/linear_model/least_angle.py:1602: DeprecationWarning: `np.float` is a deprecated alias for the builtin `float`. To silence this warning, use `float` by itself. Doing this will not modify any behavior and is safe. If you specifically wanted the numpy scalar type, use `np.float64` here.\n",
      "Deprecated in NumPy 1.20; for more details and guidance: https://numpy.org/devdocs/release/1.20.0-notes.html#deprecations\n",
      "  max_n_alphas=1000, n_jobs=None, eps=np.finfo(np.float).eps,\n",
      "/opt/conda/envs/tf14/lib/python3.7/site-packages/sklearn/linear_model/least_angle.py:1738: DeprecationWarning: `np.float` is a deprecated alias for the builtin `float`. To silence this warning, use `float` by itself. Doing this will not modify any behavior and is safe. If you specifically wanted the numpy scalar type, use `np.float64` here.\n",
      "Deprecated in NumPy 1.20; for more details and guidance: https://numpy.org/devdocs/release/1.20.0-notes.html#deprecations\n",
      "  eps=np.finfo(np.float).eps, copy_X=True, positive=False):\n"
     ]
    }
   ],
   "source": [
    "# lemmatize the entire dataset\n",
    "from nltk.tokenize import sent_tokenize\n",
    "sentences_ds = []\n",
    "for idx in range(len(clean_articles)):\n",
    "    sentences_ds.extend(sent_tokenize(clean_articles[idx]))"
   ]
  },
  {
   "cell_type": "code",
   "execution_count": 12,
   "id": "8a4873bf",
   "metadata": {},
   "outputs": [],
   "source": [
    "max_seq_len = 512\n",
    "\n",
    "def get_end_id(lemmatized_sentences_list, start_id):\n",
    "    num_words = 0\n",
    "    \n",
    "    for ind in range(start_id, len(sentences_ds)):\n",
    "        num_words += len(sentences_ds[ind].split(\" \"))\n",
    "        #print(\"Num words: {}\".format(num_words))\n",
    "        #print(\"Sent len: {}\".format(len(sentences_ds[ind].split(\" \"))))\n",
    "        if num_words > max_seq_len:\n",
    "            return ind"
   ]
  },
  {
   "cell_type": "code",
   "execution_count": 13,
   "id": "96fcac39",
   "metadata": {},
   "outputs": [],
   "source": [
    "# for the VAD values read from NRC-VAD-Lexicon.txt\n",
    "columns = [\"word\", \"valence\", \"arousal\", \"dominance\"]\n",
    "vad_df = pd.DataFrame(columns=columns)\n",
    "\n",
    "import csv\n",
    "\n",
    "word_list = []\n",
    "valence = []\n",
    "arousal = []\n",
    "dominance = []\n",
    "\n",
    "with open(\"NRC-VAD-Lexicon.txt\") as tsv:\n",
    "    for line in csv.reader(tsv, delimiter='\\t'):\n",
    "        word_list.append(line[0])\n",
    "        valence.append(line[1])\n",
    "        arousal.append(line[2])\n",
    "        dominance.append(line[3])\n",
    "\n",
    "vad_df[\"word\"] = word_list\n",
    "vad_df[\"valence\"] = valence\n",
    "vad_df[\"arousal\"] = arousal\n",
    "vad_df[\"dominance\"] = dominance"
   ]
  },
  {
   "cell_type": "code",
   "execution_count": 14,
   "id": "3e43c4b3",
   "metadata": {},
   "outputs": [],
   "source": [
    "def lemmatize_query(query_word):\n",
    "    lemmatized_query = lemmatizer.lemmatize(query_word)\n",
    "    return lemmatized_query"
   ]
  },
  {
   "cell_type": "code",
   "execution_count": 15,
   "id": "280cef21",
   "metadata": {},
   "outputs": [],
   "source": [
    "def lemmatize_context(context):\n",
    "    lemmatized_output = []\n",
    "    for w in context:\n",
    "        lemmatized_output.append(lemmatizer.lemmatize(w))\n",
    "    return lemmatized_output"
   ]
  },
  {
   "cell_type": "code",
   "execution_count": 16,
   "id": "91a5c394",
   "metadata": {},
   "outputs": [],
   "source": [
    "def get_label(query, context):\n",
    "    # evaluate verbatim recall for now so do not lemmatize or consider synonyms\n",
    "    #lemmatized_query = lemmatize_query(query)\n",
    "    # nltk sentence tokenizer doesnt split words properly - e.g. is split as e.g and . and then lemmatized\n",
    "    # but lemmatization of e.g. is e.g. so you will not find lemmatized query in word_dict \n",
    "    # in such cases just take the query word as is \n",
    "    \"\"\"\n",
    "    if lemmatized_query in word_dict:\n",
    "        expanaded_query = word_dict[lemmatized_query]\n",
    "    else:\n",
    "        expanaded_query = lemmatized_query\n",
    "    \"\"\"\n",
    "    # lemmatize the context \n",
    "    #lemmatized_context = lemmatize_context(context)\n",
    "    \"\"\"\n",
    "    if (set(expanaded_query) & set(lemmatized_context)):\n",
    "        label = 1\n",
    "    else:\n",
    "        label = 0\n",
    "    \"\"\"\n",
    "    if query in context:\n",
    "        label = 1\n",
    "    else:\n",
    "        label = 0\n",
    "    #print(f'context: {\" \".join(context)}, query: {query}, label: {label}, length {len(context)}')\n",
    "    return label  "
   ]
  },
  {
   "cell_type": "code",
   "execution_count": 17,
   "id": "6cf9006c",
   "metadata": {},
   "outputs": [],
   "source": [
    "from tqdm import tqdm"
   ]
  },
  {
   "cell_type": "code",
   "execution_count": 18,
   "id": "51c8534b",
   "metadata": {},
   "outputs": [
    {
     "name": "stderr",
     "output_type": "stream",
     "text": [
      "100%|████████████████████████████████████████████████████████████████████████████████████████████████████████████████████████████████████████████████████████████████| 9468/9468 [00:35<00:00, 269.21it/s]\n"
     ]
    }
   ],
   "source": [
    "spl_char = ['.', '\\'', '?', ',']\n",
    "\n",
    "data = []\n",
    "\n",
    "for sent_id in tqdm(range(len(sentences_ds))):\n",
    "    end_id = get_end_id(sentences_ds, sent_id)\n",
    "    chunk_clean = \" \".join(sentences_ds[sent_id:end_id]).split(\" \") \n",
    "\n",
    "    for idx, query in enumerate(chunk_clean[1:]):\n",
    "        if query not in spl_char and not query.isnumeric():\n",
    "            context = chunk_clean[:idx+1]\n",
    "            label = get_label(query, context)\n",
    "            data.append({\"query\": query, \"context\": \" \".join(context), \"label\": label, \"context_length\": len(context)})"
   ]
  },
  {
   "cell_type": "code",
   "execution_count": 91,
   "id": "695e5452",
   "metadata": {},
   "outputs": [],
   "source": [
    "df = pd.DataFrame(data)"
   ]
  },
  {
   "cell_type": "code",
   "execution_count": 92,
   "id": "5f3e2135",
   "metadata": {},
   "outputs": [
    {
     "data": {
      "text/plain": [
       "18856"
      ]
     },
     "execution_count": 92,
     "metadata": {},
     "output_type": "execute_result"
    }
   ],
   "source": [
    "# number of unique queries in the unbalanced dataset\n",
    "len(df['query'].unique())"
   ]
  },
  {
   "cell_type": "code",
   "execution_count": 93,
   "id": "a021adb3",
   "metadata": {},
   "outputs": [],
   "source": [
    "df = df[df['context_length'] < 400]"
   ]
  },
  {
   "cell_type": "code",
   "execution_count": 94,
   "id": "c5737dfd",
   "metadata": {},
   "outputs": [
    {
     "data": {
      "text/html": [
       "<div>\n",
       "<style scoped>\n",
       "    .dataframe tbody tr th:only-of-type {\n",
       "        vertical-align: middle;\n",
       "    }\n",
       "\n",
       "    .dataframe tbody tr th {\n",
       "        vertical-align: top;\n",
       "    }\n",
       "\n",
       "    .dataframe thead th {\n",
       "        text-align: right;\n",
       "    }\n",
       "</style>\n",
       "<table border=\"1\" class=\"dataframe\">\n",
       "  <thead>\n",
       "    <tr style=\"text-align: right;\">\n",
       "      <th></th>\n",
       "      <th>query</th>\n",
       "      <th>context</th>\n",
       "      <th>label</th>\n",
       "      <th>context_length</th>\n",
       "    </tr>\n",
       "  </thead>\n",
       "  <tbody>\n",
       "  </tbody>\n",
       "</table>\n",
       "</div>"
      ],
      "text/plain": [
       "Empty DataFrame\n",
       "Columns: [query, context, label, context_length]\n",
       "Index: []"
      ]
     },
     "execution_count": 94,
     "metadata": {},
     "output_type": "execute_result"
    }
   ],
   "source": [
    "df[df['context_length'] > 400]"
   ]
  },
  {
   "cell_type": "code",
   "execution_count": 95,
   "id": "5cf06e1a",
   "metadata": {},
   "outputs": [
    {
     "data": {
      "text/plain": [
       "18856"
      ]
     },
     "execution_count": 95,
     "metadata": {},
     "output_type": "execute_result"
    }
   ],
   "source": [
    "# number of unique queries in the unbalanced dataset\n",
    "len(df['query'].unique())"
   ]
  },
  {
   "cell_type": "code",
   "execution_count": 96,
   "id": "91dc15cd",
   "metadata": {},
   "outputs": [],
   "source": [
    "df_pos_full = df[df['label'] == 1]\n",
    "df_neg_full = df[df['label'] == 0]"
   ]
  },
  {
   "cell_type": "code",
   "execution_count": 97,
   "id": "bef25464",
   "metadata": {},
   "outputs": [
    {
     "data": {
      "text/plain": [
       "6122"
      ]
     },
     "execution_count": 97,
     "metadata": {},
     "output_type": "execute_result"
    }
   ],
   "source": [
    "len(df_pos_full['query'].unique())"
   ]
  },
  {
   "cell_type": "code",
   "execution_count": 175,
   "id": "ee0346d3",
   "metadata": {},
   "outputs": [],
   "source": [
    "# ignore samples greater than 400 as context length, this is so that word piece tokenization and lstm tokenization\n",
    "# which expand the number of tokens still fit into 512.\n",
    "#df_pos = df_pos_full[df_pos_full['context_length'] < 400]\n",
    "#df_neg = df_neg_full[df_neg_full['context_length'] < 400]"
   ]
  },
  {
   "cell_type": "code",
   "execution_count": 98,
   "id": "ab91aeb5",
   "metadata": {},
   "outputs": [],
   "source": [
    "# keep a tab of query and number of times it is positive\n",
    "pos_query_count = df_pos_full.groupby('query').apply(lambda x: len(x)).to_dict()"
   ]
  },
  {
   "cell_type": "code",
   "execution_count": 99,
   "id": "a668f3e8",
   "metadata": {},
   "outputs": [],
   "source": [
    "max_N = 10"
   ]
  },
  {
   "cell_type": "code",
   "execution_count": 100,
   "id": "e926ada5",
   "metadata": {},
   "outputs": [],
   "source": [
    "for key, value in pos_query_count.items():\n",
    "    if pos_query_count[key] > max_N:\n",
    "        pos_query_count[key] = max_N"
   ]
  },
  {
   "cell_type": "code",
   "execution_count": 101,
   "id": "400f5869",
   "metadata": {},
   "outputs": [],
   "source": [
    "sampled_df_neg = df_neg_full.groupby('query', group_keys=False).apply(\n",
    "    lambda x: x.sample(n=min(pos_query_count[x.iloc[0][\"query\"]], len(x))\n",
    "                       if (x.iloc[0][\"query\"] in pos_query_count) else 1)\n",
    ")"
   ]
  },
  {
   "cell_type": "code",
   "execution_count": 102,
   "id": "f6c557e0",
   "metadata": {},
   "outputs": [
    {
     "data": {
      "text/plain": [
       "70275"
      ]
     },
     "execution_count": 102,
     "metadata": {},
     "output_type": "execute_result"
    }
   ],
   "source": [
    "len(sampled_df_neg)"
   ]
  },
  {
   "cell_type": "code",
   "execution_count": 103,
   "id": "ee68b54d",
   "metadata": {},
   "outputs": [],
   "source": [
    "#query_neg = (sampled_df_neg.groupby('query').size() - df_pos.groupby('query').size()).dropna().index.to_list()\n",
    "query_neg = (sampled_df_neg['query'].unique())"
   ]
  },
  {
   "cell_type": "code",
   "execution_count": 104,
   "id": "71c37c4b",
   "metadata": {},
   "outputs": [
    {
     "data": {
      "text/plain": [
       "18856"
      ]
     },
     "execution_count": 104,
     "metadata": {},
     "output_type": "execute_result"
    }
   ],
   "source": [
    "len(query_neg)"
   ]
  },
  {
   "cell_type": "code",
   "execution_count": 105,
   "id": "c2708592",
   "metadata": {},
   "outputs": [],
   "source": [
    "sampled_df_pos = df_pos_full.groupby('query', group_keys=False).apply(\n",
    "    lambda x: x.sample(n=min(len(x), max_N))\n",
    ")"
   ]
  },
  {
   "cell_type": "code",
   "execution_count": 106,
   "id": "f4b21b7d",
   "metadata": {},
   "outputs": [
    {
     "data": {
      "text/plain": [
       "57543"
      ]
     },
     "execution_count": 106,
     "metadata": {},
     "output_type": "execute_result"
    }
   ],
   "source": [
    "len(sampled_df_pos)"
   ]
  },
  {
   "cell_type": "code",
   "execution_count": 107,
   "id": "5bc0e698",
   "metadata": {},
   "outputs": [],
   "source": [
    "sampled_df = pd.concat([sampled_df_pos, sampled_df_neg])"
   ]
  },
  {
   "cell_type": "code",
   "execution_count": 108,
   "id": "775d7e06",
   "metadata": {},
   "outputs": [],
   "source": [
    "# this will have both positive and negative samples of the same query grouped together, so easier to split into train\n",
    "# and test with non overlapping samples\n",
    "#sampled_df_grouped = sampled_df.sort_values(by='query')"
   ]
  },
  {
   "cell_type": "code",
   "execution_count": 109,
   "id": "27f260d1",
   "metadata": {},
   "outputs": [],
   "source": [
    "# create a train, test, and validation split\n",
    "from sklearn.model_selection import train_test_split\n",
    "\n",
    "train_val_query, test_query = train_test_split(sampled_df[\"query\"].unique().tolist(), test_size=0.3, random_state=2, shuffle=True)"
   ]
  },
  {
   "cell_type": "code",
   "execution_count": 110,
   "id": "2c3b6e71",
   "metadata": {},
   "outputs": [],
   "source": [
    "train_query, val_query = train_test_split(train_val_query, test_size=0.2, random_state=2, shuffle=True)"
   ]
  },
  {
   "cell_type": "code",
   "execution_count": 111,
   "id": "821b9019",
   "metadata": {},
   "outputs": [
    {
     "name": "stdout",
     "output_type": "stream",
     "text": [
      " train_query len: 10559, val_query len: 2640, test_query len: 5657\n"
     ]
    }
   ],
   "source": [
    "print(f\" train_query len: {len(train_query)}, val_query len: {len(val_query)}, test_query len: {len(test_query)}\")"
   ]
  },
  {
   "cell_type": "code",
   "execution_count": 112,
   "id": "4a0affb5",
   "metadata": {},
   "outputs": [],
   "source": [
    "train_df = sampled_df[sampled_df[\"query\"].isin(train_query)]\n",
    "val_df = sampled_df[sampled_df[\"query\"].isin(val_query)]\n",
    "test_df = sampled_df[sampled_df[\"query\"].isin(test_query)]"
   ]
  },
  {
   "cell_type": "code",
   "execution_count": 113,
   "id": "39899dc8",
   "metadata": {},
   "outputs": [
    {
     "name": "stdout",
     "output_type": "stream",
     "text": [
      "70928 10559\n",
      "18272 2640\n",
      "38618 5657\n"
     ]
    }
   ],
   "source": [
    "print(len(train_df), len(train_df[\"query\"].unique()))\n",
    "print(len(val_df), len(val_df[\"query\"].unique()))\n",
    "print(len(test_df), len(test_df[\"query\"].unique()))"
   ]
  },
  {
   "cell_type": "code",
   "execution_count": 114,
   "id": "1fa9f659",
   "metadata": {},
   "outputs": [
    {
     "data": {
      "text/plain": [
       "<AxesSubplot:>"
      ]
     },
     "execution_count": 114,
     "metadata": {},
     "output_type": "execute_result"
    },
    {
     "data": {
      "image/png": "[encoded data removed]",
      "text/plain": [
       "<Figure size 432x288 with 1 Axes>"
      ]
     },
     "metadata": {
      "needs_background": "light"
     },
     "output_type": "display_data"
    }
   ],
   "source": [
    "train_df[\"label\"].hist()"
   ]
  },
  {
   "cell_type": "code",
   "execution_count": 115,
   "id": "7366f674",
   "metadata": {},
   "outputs": [
    {
     "data": {
      "text/plain": [
       "<AxesSubplot:>"
      ]
     },
     "execution_count": 115,
     "metadata": {},
     "output_type": "execute_result"
    },
    {
     "data": {
      "image/png": "[encoded data removed]",
      "text/plain": [
       "<Figure size 432x288 with 1 Axes>"
      ]
     },
     "metadata": {
      "needs_background": "light"
     },
     "output_type": "display_data"
    }
   ],
   "source": [
    "val_df[\"label\"].hist()"
   ]
  },
  {
   "cell_type": "code",
   "execution_count": 116,
   "id": "53c4c6a4",
   "metadata": {},
   "outputs": [
    {
     "data": {
      "text/plain": [
       "<AxesSubplot:>"
      ]
     },
     "execution_count": 116,
     "metadata": {},
     "output_type": "execute_result"
    },
    {
     "data": {
      "image/png": "[encoded data removed]",
      "text/plain": [
       "<Figure size 432x288 with 1 Axes>"
      ]
     },
     "metadata": {
      "needs_background": "light"
     },
     "output_type": "display_data"
    }
   ],
   "source": [
    "test_df[\"label\"].hist()"
   ]
  },
  {
   "cell_type": "code",
   "execution_count": 208,
   "id": "1b65f5e2",
   "metadata": {},
   "outputs": [],
   "source": [
    "# store all the dataframes in csv format, unpickling can be an issue if you mess with the pandas version numbers\n",
    "#train_df.to_csv(\"18k_query_lm_recall_train.csv\", sep=\"\\t\", index=False)\n",
    "#val_df.to_csv(\"balanced_lm_recall_val.csv\", sep=\"\\t\", index=False)\n",
    "#test_df.to_csv(\"balanced_lm_recall_test.csv\", sep=\"\\t\", index=False)"
   ]
  },
  {
   "cell_type": "code",
   "execution_count": 117,
   "id": "4f5e38d2",
   "metadata": {},
   "outputs": [],
   "source": [
    "train_df.to_json(\"18k_query_lm_recall_train.json\")\n",
    "val_df.to_json(\"18k_query_lm_recall_val.json\")\n",
    "test_df.to_json(\"18k_query_lm_recall_test.json\")"
   ]
  },
  {
   "cell_type": "code",
   "execution_count": null,
   "id": "488c9771",
   "metadata": {},
   "outputs": [],
   "source": []
  }
 ],
 "metadata": {
  "kernelspec": {
   "display_name": "Python 3 (ipykernel)",
   "language": "python",
   "name": "python3"
  },
  "language_info": {
   "codemirror_mode": {
    "name": "ipython",
    "version": 3
   },
   "file_extension": ".py",
   "mimetype": "text/x-python",
   "name": "python",
   "nbconvert_exporter": "python",
   "pygments_lexer": "ipython3",
   "version": "3.7.13"
  }
 },
 "nbformat": 4,
 "nbformat_minor": 5
}
