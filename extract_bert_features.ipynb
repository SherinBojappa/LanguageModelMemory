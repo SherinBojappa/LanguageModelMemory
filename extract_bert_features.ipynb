{
 "cells": [
  {
   "cell_type": "code",
   "execution_count": 1,
   "id": "539a0191",
   "metadata": {},
   "outputs": [],
   "source": [
    "import pandas as pd\n",
    "pd.options.display.max_colwidth = 100\n",
    "pd.set_option('display.max_colwidth', None)"
   ]
  },
  {
   "cell_type": "code",
   "execution_count": 2,
   "id": "2bfeb289",
   "metadata": {},
   "outputs": [],
   "source": [
    "from tqdm import tqdm"
   ]
  },
  {
   "cell_type": "code",
   "execution_count": 3,
   "id": "bafc4a55",
   "metadata": {},
   "outputs": [],
   "source": [
    "import torch\n",
    "from torch.utils.data import Dataset\n",
    "from torch.utils.data import DataLoader\n",
    "from transformers import BertModel, BertTokenizer"
   ]
  },
  {
   "cell_type": "code",
   "execution_count": 4,
   "id": "0ae0401e",
   "metadata": {},
   "outputs": [
    {
     "name": "stdout",
     "output_type": "stream",
     "text": [
      "Using cuda device\n"
     ]
    }
   ],
   "source": [
    "device = \"cuda\" if torch.cuda.is_available() else \"cpu\"\n",
    "print(f\"Using {device} device\")"
   ]
  },
  {
   "cell_type": "markdown",
   "id": "cacfb1c2",
   "metadata": {},
   "source": [
    "# Natural langugage - load the data\n"
   ]
  },
  {
   "cell_type": "code",
   "execution_count": 3,
   "id": "ddeba673",
   "metadata": {},
   "outputs": [],
   "source": [
    "\n",
    "df_train_final = pd.read_json(\"train_final.json\")\n",
    "df_val_final = pd.read_json(\"val_final.json\")\n",
    "df_test_final = pd.read_json(\"test_final.json\")"
   ]
  },
  {
   "cell_type": "code",
   "execution_count": 11,
   "id": "e7bb6792",
   "metadata": {},
   "outputs": [],
   "source": [
    "# create a dataset with the dataframe\n",
    "\n",
    "class CustomDataset(Dataset):\n",
    "\n",
    "    def __init__(self, dataframe):\n",
    "\n",
    "        self.context = dataframe.iloc[:,1]\n",
    "        self.query = dataframe.iloc[:,0]\n",
    "        self.labels = dataframe.iloc[:, 2]\n",
    "\n",
    "        #self.x_train=torch.tensor(x,dtype=torch.float32)\n",
    "        #self.y_train=torch.tensor(y,dtype=torch.float32)\n",
    "\n",
    "    def __len__(self):\n",
    "        return len(self.query)\n",
    "  \n",
    "    def __getitem__(self, idx):\n",
    "        #print(self.query[idx], self.labels[idx])\n",
    "        return self.context.iloc[idx], self.query.iloc[idx], self.labels.iloc[idx]"
   ]
  },
  {
   "cell_type": "code",
   "execution_count": 27,
   "id": "cc30129f",
   "metadata": {},
   "outputs": [],
   "source": [
    "data_set_train = CustomDataset(df_train_final)\n",
    "data_set_val = CustomDataset(df_val_final)\n",
    "data_set_test = CustomDataset(df_test_final)\n",
    "\n",
    "train_loader = DataLoader(data_set_train,batch_size=128,shuffle=False)\n",
    "val_loader = DataLoader(data_set_val,batch_size=128,shuffle=False)\n",
    "test_loader = DataLoader(data_set_test,batch_size=128,shuffle=False) "
   ]
  },
  {
   "cell_type": "markdown",
   "id": "becaed42",
   "metadata": {},
   "source": [
    "# extract features"
   ]
  },
  {
   "cell_type": "code",
   "execution_count": 8,
   "id": "46a2795c",
   "metadata": {},
   "outputs": [
    {
     "name": "stderr",
     "output_type": "stream",
     "text": [
      "Some weights of the model checkpoint at bert-base-cased were not used when initializing BertModel: ['cls.predictions.transform.LayerNorm.weight', 'cls.predictions.transform.dense.bias', 'cls.seq_relationship.bias', 'cls.predictions.transform.LayerNorm.bias', 'cls.predictions.transform.dense.weight', 'cls.predictions.decoder.weight', 'cls.seq_relationship.weight', 'cls.predictions.bias']\n",
      "- This IS expected if you are initializing BertModel from the checkpoint of a model trained on another task or with another architecture (e.g. initializing a BertForSequenceClassification model from a BertForPreTraining model).\n",
      "- This IS NOT expected if you are initializing BertModel from the checkpoint of a model that you expect to be exactly identical (initializing a BertForSequenceClassification model from a BertForSequenceClassification model).\n"
     ]
    }
   ],
   "source": [
    "# load model \n",
    "\n",
    "tokenizer_bert = BertTokenizer.from_pretrained(\"bert-base-cased\")\n",
    "model_bert = BertModel.from_pretrained(\"bert-base-cased\").to(device)\n",
    "for param in model_bert.parameters():\n",
    "    param.requires_grad = False"
   ]
  },
  {
   "cell_type": "code",
   "execution_count": 20,
   "id": "d93dfd4e",
   "metadata": {},
   "outputs": [],
   "source": [
    "def get_rep(r, is_context):\n",
    "    r_inputs  = tokenizer_bert(r, return_tensors=\"pt\", truncation=True, padding=True).to(device)\n",
    "    r_op = model_bert(**r_inputs)\n",
    "    if is_context:\n",
    "        #CLS token\n",
    "        token_id = 0\n",
    "    else:\n",
    "        # query token\n",
    "        token_id = 1\n",
    "    \n",
    "    representation = r_op.last_hidden_state[:,token_id,:]\n",
    "    \n",
    "    return representation"
   ]
  },
  {
   "cell_type": "code",
   "execution_count": 21,
   "id": "f691033a",
   "metadata": {},
   "outputs": [],
   "source": [
    "def get_all_reps(data_loader):\n",
    "    query_reps = []\n",
    "    context_reps = []\n",
    "\n",
    "    for c, q, labels in tqdm(data_loader):\n",
    "\n",
    "        context_reps.append(get_rep(c, is_context=True).cpu())\n",
    "        query_reps.append(get_rep(q, is_context=False).cpu())\n",
    "    query_reps = torch.vstack(query_reps)\n",
    "    context_reps = torch.vstack(context_reps)\n",
    "    return context_reps, query_reps\n"
   ]
  },
  {
   "cell_type": "code",
   "execution_count": 28,
   "id": "f5712281",
   "metadata": {},
   "outputs": [
    {
     "name": "stderr",
     "output_type": "stream",
     "text": [
      "100%|███████████████████████████████████████████████████████████████████████████████████████████████████████████████████████████████████████████████████████████████████| 553/553 [08:03<00:00,  1.14it/s]\n"
     ]
    }
   ],
   "source": [
    "train_context_reps, train_query_reps = get_all_reps(train_loader)"
   ]
  },
  {
   "cell_type": "code",
   "execution_count": 29,
   "id": "695070cc",
   "metadata": {},
   "outputs": [
    {
     "name": "stderr",
     "output_type": "stream",
     "text": [
      "100%|███████████████████████████████████████████████████████████████████████████████████████████████████████████████████████████████████████████████████████████████████| 143/143 [02:03<00:00,  1.16it/s]\n"
     ]
    }
   ],
   "source": [
    "val_context_reps, val_query_reps = get_all_reps(val_loader)"
   ]
  },
  {
   "cell_type": "code",
   "execution_count": 30,
   "id": "2cbe82a3",
   "metadata": {},
   "outputs": [
    {
     "name": "stderr",
     "output_type": "stream",
     "text": [
      "100%|███████████████████████████████████████████████████████████████████████████████████████████████████████████████████████████████████████████████████████████████████| 301/301 [04:12<00:00,  1.19it/s]\n"
     ]
    }
   ],
   "source": [
    "test_context_reps, test_query_reps = get_all_reps(test_loader)"
   ]
  },
  {
   "cell_type": "code",
   "execution_count": 34,
   "id": "d37c9f93",
   "metadata": {},
   "outputs": [],
   "source": [
    "torch.save(train_context_reps, 'train_context_bert_reps.pt')\n",
    "torch.save(val_context_reps, 'val_context_bert_reps.pt')\n",
    "torch.save(test_context_reps, 'test_context_bert_reps.pt')"
   ]
  },
  {
   "cell_type": "code",
   "execution_count": 36,
   "id": "bffad02d",
   "metadata": {},
   "outputs": [],
   "source": [
    "torch.save(train_query_reps, 'train_query_bert_reps.pt')\n",
    "torch.save(val_query_reps, 'val_query_bert_reps.pt')\n",
    "torch.save(test_query_reps, 'test_query_bert_reps.pt')"
   ]
  },
  {
   "cell_type": "code",
   "execution_count": 38,
   "id": "f3c79219",
   "metadata": {},
   "outputs": [],
   "source": [
    "torch.save(torch.tensor(df_train_final['label'].values), 'train_label.pt')\n",
    "torch.save(torch.tensor(df_val_final['label'].values), 'val_label.pt')\n",
    "torch.save(torch.tensor(df_test_final['label'].values), 'test_label.pt')"
   ]
  },
  {
   "cell_type": "code",
   "execution_count": 37,
   "id": "db0c790d",
   "metadata": {},
   "outputs": [
    {
     "data": {
      "text/plain": [
       "torch.Size([70749, 768])"
      ]
     },
     "execution_count": 37,
     "metadata": {},
     "output_type": "execute_result"
    }
   ],
   "source": [
    "train_query_reps.shape"
   ]
  },
  {
   "cell_type": "markdown",
   "id": "845d3dad",
   "metadata": {},
   "source": [
    "## Synthetic dataset "
   ]
  },
  {
   "cell_type": "code",
   "execution_count": 5,
   "id": "601831aa",
   "metadata": {},
   "outputs": [],
   "source": [
    "df_train_final = pd.read_json(\"no_overlap_syn_train.json\")\n",
    "df_val_final = pd.read_json(\"no_overlap_syn_val.json\")\n",
    "df_test_final = pd.read_json(\"no_overlap_syn_test.json\")"
   ]
  },
  {
   "cell_type": "code",
   "execution_count": 39,
   "id": "fe2ee5bf",
   "metadata": {},
   "outputs": [
    {
     "data": {
      "text/html": [
       "<div>\n",
       "<style scoped>\n",
       "    .dataframe tbody tr th:only-of-type {\n",
       "        vertical-align: middle;\n",
       "    }\n",
       "\n",
       "    .dataframe tbody tr th {\n",
       "        vertical-align: top;\n",
       "    }\n",
       "\n",
       "    .dataframe thead th {\n",
       "        text-align: right;\n",
       "    }\n",
       "</style>\n",
       "<table border=\"1\" class=\"dataframe\">\n",
       "  <thead>\n",
       "    <tr style=\"text-align: right;\">\n",
       "      <th></th>\n",
       "      <th>sequence</th>\n",
       "      <th>query</th>\n",
       "      <th>sequence_len</th>\n",
       "      <th>first_rep_pos</th>\n",
       "      <th>label</th>\n",
       "      <th>token_repeated</th>\n",
       "      <th>clean_seq</th>\n",
       "    </tr>\n",
       "  </thead>\n",
       "  <tbody>\n",
       "    <tr>\n",
       "      <th>0</th>\n",
       "      <td>[6]</td>\n",
       "      <td>6</td>\n",
       "      <td>1</td>\n",
       "      <td>0</td>\n",
       "      <td>1</td>\n",
       "      <td>6</td>\n",
       "      <td>6</td>\n",
       "    </tr>\n",
       "    <tr>\n",
       "      <th>1</th>\n",
       "      <td>[96]</td>\n",
       "      <td>52</td>\n",
       "      <td>1</td>\n",
       "      <td>-1</td>\n",
       "      <td>0</td>\n",
       "      <td>-1</td>\n",
       "      <td>96</td>\n",
       "    </tr>\n",
       "    <tr>\n",
       "      <th>2</th>\n",
       "      <td>[39]</td>\n",
       "      <td>39</td>\n",
       "      <td>1</td>\n",
       "      <td>0</td>\n",
       "      <td>1</td>\n",
       "      <td>39</td>\n",
       "      <td>39</td>\n",
       "    </tr>\n",
       "    <tr>\n",
       "      <th>3</th>\n",
       "      <td>[12]</td>\n",
       "      <td>18</td>\n",
       "      <td>1</td>\n",
       "      <td>-1</td>\n",
       "      <td>0</td>\n",
       "      <td>-1</td>\n",
       "      <td>12</td>\n",
       "    </tr>\n",
       "    <tr>\n",
       "      <th>4</th>\n",
       "      <td>[22]</td>\n",
       "      <td>22</td>\n",
       "      <td>1</td>\n",
       "      <td>0</td>\n",
       "      <td>1</td>\n",
       "      <td>22</td>\n",
       "      <td>22</td>\n",
       "    </tr>\n",
       "  </tbody>\n",
       "</table>\n",
       "</div>"
      ],
      "text/plain": [
       "  sequence  query  sequence_len  first_rep_pos  label  token_repeated  \\\n",
       "0      [6]      6             1              0      1               6   \n",
       "1     [96]     52             1             -1      0              -1   \n",
       "2     [39]     39             1              0      1              39   \n",
       "3     [12]     18             1             -1      0              -1   \n",
       "4     [22]     22             1              0      1              22   \n",
       "\n",
       "  clean_seq  \n",
       "0         6  \n",
       "1        96  \n",
       "2        39  \n",
       "3        12  \n",
       "4        22  "
      ]
     },
     "execution_count": 39,
     "metadata": {},
     "output_type": "execute_result"
    }
   ],
   "source": [
    "df_train_final.head()"
   ]
  },
  {
   "cell_type": "code",
   "execution_count": 46,
   "id": "67d6096e",
   "metadata": {},
   "outputs": [],
   "source": [
    "df_train_final['query'] = df_train_final['query'].apply(lambda x: str(x))"
   ]
  },
  {
   "cell_type": "code",
   "execution_count": 47,
   "id": "73df424b",
   "metadata": {},
   "outputs": [],
   "source": [
    "df_val_final['query'] = df_val_final['query'].apply(lambda x: str(x))\n",
    "df_test_final['query'] = df_test_final['query'].apply(lambda x: str(x))"
   ]
  },
  {
   "cell_type": "code",
   "execution_count": 48,
   "id": "2ed3d529",
   "metadata": {},
   "outputs": [],
   "source": [
    "# create a dataset with the dataframe\n",
    "\n",
    "class CustomDataset(Dataset):\n",
    "\n",
    "    def __init__(self, dataframe):\n",
    "\n",
    "        self.context = dataframe.iloc[:,6]\n",
    "        self.query = dataframe.iloc[:,1]\n",
    "        self.labels = dataframe.iloc[:, 4]\n",
    "\n",
    "        #self.x_train=torch.tensor(x,dtype=torch.float32)\n",
    "        #self.y_train=torch.tensor(y,dtype=torch.float32)\n",
    "\n",
    "    def __len__(self):\n",
    "        return len(self.query)\n",
    "  \n",
    "    def __getitem__(self, idx):\n",
    "        #print(self.query[idx], self.labels[idx])\n",
    "        return self.context.iloc[idx], self.query.iloc[idx], self.labels.iloc[idx]"
   ]
  },
  {
   "cell_type": "code",
   "execution_count": 49,
   "id": "ad8cc757",
   "metadata": {},
   "outputs": [],
   "source": [
    "data_set_train = CustomDataset(df_train_final)\n",
    "data_set_val = CustomDataset(df_val_final)\n",
    "data_set_test = CustomDataset(df_test_final)\n",
    "\n",
    "train_loader = DataLoader(data_set_train,batch_size=128,shuffle=True)\n",
    "val_loader = DataLoader(data_set_val,batch_size=128,shuffle=True)\n",
    "test_loader = DataLoader(data_set_test,batch_size=128,shuffle=True) "
   ]
  },
  {
   "cell_type": "code",
   "execution_count": 23,
   "id": "820fa80a",
   "metadata": {},
   "outputs": [
    {
     "name": "stderr",
     "output_type": "stream",
     "text": [
      "Some weights of the model checkpoint at bert-base-cased were not used when initializing BertModel: ['cls.predictions.bias', 'cls.seq_relationship.weight', 'cls.predictions.transform.LayerNorm.weight', 'cls.predictions.transform.dense.weight', 'cls.predictions.decoder.weight', 'cls.predictions.transform.LayerNorm.bias', 'cls.seq_relationship.bias', 'cls.predictions.transform.dense.bias']\n",
      "- This IS expected if you are initializing BertModel from the checkpoint of a model trained on another task or with another architecture (e.g. initializing a BertForSequenceClassification model from a BertForPreTraining model).\n",
      "- This IS NOT expected if you are initializing BertModel from the checkpoint of a model that you expect to be exactly identical (initializing a BertForSequenceClassification model from a BertForSequenceClassification model).\n"
     ]
    }
   ],
   "source": [
    "tokenizer_bert = BertTokenizer.from_pretrained(\"bert-base-cased\")\n",
    "model_bert = BertModel.from_pretrained(\"bert-base-cased\").to(device)\n",
    "for param in model_bert.parameters():\n",
    "    param.requires_grad = False"
   ]
  },
  {
   "cell_type": "code",
   "execution_count": 50,
   "id": "55a0956a",
   "metadata": {},
   "outputs": [],
   "source": [
    "def get_rep(r, is_context):\n",
    "    r_inputs  = tokenizer_bert(r, return_tensors=\"pt\", truncation=True, padding=True, max_length=99).to(device)\n",
    "    r_op = model_bert(**r_inputs)\n",
    "    if is_context:\n",
    "        #CLS token\n",
    "        token_id = 0\n",
    "    else:\n",
    "        # query token\n",
    "        token_id = 1\n",
    "    \n",
    "    representation = r_op.last_hidden_state[:,token_id,:]\n",
    "    \n",
    "    return representation"
   ]
  },
  {
   "cell_type": "code",
   "execution_count": 51,
   "id": "1393e0f0",
   "metadata": {},
   "outputs": [],
   "source": [
    "def get_all_reps(data_loader):\n",
    "    query_reps = []\n",
    "    context_reps = []\n",
    "\n",
    "    for c, q, labels in tqdm(data_loader):\n",
    "\n",
    "        context_reps.append(get_rep(c, is_context=True).cpu())\n",
    "        query_reps.append(get_rep(q, is_context=False).cpu())\n",
    "    query_reps = torch.vstack(query_reps)\n",
    "    context_reps = torch.vstack(context_reps)\n",
    "    return context_reps, query_reps"
   ]
  },
  {
   "cell_type": "code",
   "execution_count": 52,
   "id": "394138ba",
   "metadata": {},
   "outputs": [
    {
     "name": "stderr",
     "output_type": "stream",
     "text": [
      "100%|███████████████████████████████████████████████████████████████████████████████████████████████████████████████████████████████████████████████████████████████| 1086/1086 [02:35<00:00,  6.98it/s]\n"
     ]
    }
   ],
   "source": [
    "train_context_reps, train_query_reps = get_all_reps(train_loader)"
   ]
  },
  {
   "cell_type": "code",
   "execution_count": 53,
   "id": "543ea01c",
   "metadata": {},
   "outputs": [
    {
     "name": "stderr",
     "output_type": "stream",
     "text": [
      "100%|█████████████████████████████████████████████████████████████████████████████████████████████████████████████████████████████████████████████████████████████████| 123/123 [00:17<00:00,  6.96it/s]\n"
     ]
    }
   ],
   "source": [
    "val_context_reps, val_query_reps = get_all_reps(val_loader)"
   ]
  },
  {
   "cell_type": "code",
   "execution_count": 54,
   "id": "d64d2360",
   "metadata": {},
   "outputs": [
    {
     "name": "stderr",
     "output_type": "stream",
     "text": [
      "100%|█████████████████████████████████████████████████████████████████████████████████████████████████████████████████████████████████████████████████████████████████| 305/305 [00:43<00:00,  6.99it/s]\n"
     ]
    }
   ],
   "source": [
    "test_context_reps, test_query_reps = get_all_reps(test_loader)"
   ]
  },
  {
   "cell_type": "code",
   "execution_count": 55,
   "id": "490b5783",
   "metadata": {},
   "outputs": [],
   "source": [
    "torch.save(train_context_reps, 'syn_no_olp_train_context_bert_reps.pt')\n",
    "torch.save(val_context_reps, 'syn_no_olp_val_context_bert_reps.pt')\n",
    "torch.save(test_context_reps, 'syn_no_olp_test_context_bert_reps.pt')"
   ]
  },
  {
   "cell_type": "code",
   "execution_count": 56,
   "id": "43883daa",
   "metadata": {},
   "outputs": [],
   "source": [
    "torch.save(train_query_reps, 'syn_no_olp_train_query_bert_reps.pt')\n",
    "torch.save(val_query_reps, 'syn_no_olp_val_query_bert_reps.pt')\n",
    "torch.save(test_query_reps, 'syn_no_olp_test_query_bert_reps.pt')"
   ]
  },
  {
   "cell_type": "code",
   "execution_count": 57,
   "id": "72bbf298",
   "metadata": {},
   "outputs": [],
   "source": [
    "torch.save(torch.tensor(df_train_final['label'].values), 'syn_no_olp_train_label.pt')\n",
    "torch.save(torch.tensor(df_val_final['label'].values), 'syn_no_olp_val_label.pt')\n",
    "torch.save(torch.tensor(df_test_final['label'].values), 'syn_no_olp_test_label.pt')"
   ]
  },
  {
   "cell_type": "code",
   "execution_count": null,
   "id": "ee356ed4",
   "metadata": {},
   "outputs": [],
   "source": []
  }
 ],
 "metadata": {
  "kernelspec": {
   "display_name": "Python 3 (ipykernel)",
   "language": "python",
   "name": "python3"
  },
  "language_info": {
   "codemirror_mode": {
    "name": "ipython",
    "version": 3
   },
   "file_extension": ".py",
   "mimetype": "text/x-python",
   "name": "python",
   "nbconvert_exporter": "python",
   "pygments_lexer": "ipython3",
   "version": "3.7.13"
  }
 },
 "nbformat": 4,
 "nbformat_minor": 5
}
