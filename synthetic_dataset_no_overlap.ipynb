{
 "cells": [
  {
   "cell_type": "code",
   "execution_count": null,
   "id": "7ae7d940",
   "metadata": {},
   "outputs": [],
   "source": [
    "import numpy as np\n",
    "import pandas as pd\n",
    "from tqdm import tqdm"
   ]
  },
  {
   "cell_type": "code",
   "execution_count": null,
   "id": "00b23b62",
   "metadata": {},
   "outputs": [],
   "source": [
    "syn_df = pd.read_json('synthetic_inputs.json')"
   ]
  },
  {
   "cell_type": "code",
   "execution_count": 54,
   "id": "0e00be30",
   "metadata": {},
   "outputs": [],
   "source": [
    "syn_df['clean_seq'] = syn_df['sequence'].apply(lambda x: ' '.join(map(str, x)))"
   ]
  },
  {
   "cell_type": "code",
   "execution_count": null,
   "id": "2c588373",
   "metadata": {},
   "outputs": [],
   "source": [
    "syn_df.tail()"
   ]
  },
  {
   "cell_type": "code",
   "execution_count": 66,
   "id": "4d5f287c",
   "metadata": {},
   "outputs": [],
   "source": [
    "from sklearn.model_selection import train_test_split\n",
    "\n",
    "train_val_query, test_query = train_test_split(syn_df[\"query\"].unique().tolist(), test_size=0.2, random_state=5, shuffle=True)\n",
    "train_query, val_query = train_test_split(train_val_query, test_size=0.1, random_state=5, shuffle=True)"
   ]
  },
  {
   "cell_type": "code",
   "execution_count": 67,
   "id": "717583b9",
   "metadata": {},
   "outputs": [],
   "source": [
    "train_ids = syn_df[\"query\"].isin(train_query)\n",
    "val_ids = syn_df[\"query\"].isin(val_query)\n",
    "test_ids = syn_df[\"query\"].isin(test_query)\n",
    "\n",
    "new_df_train = syn_df[train_ids]\n",
    "new_df_val = syn_df[val_ids]\n",
    "new_df_test = syn_df[test_ids]"
   ]
  },
  {
   "cell_type": "code",
   "execution_count": 86,
   "id": "414d9766",
   "metadata": {},
   "outputs": [
    {
     "data": {
      "text/plain": [
       "20"
      ]
     },
     "execution_count": 86,
     "metadata": {},
     "output_type": "execute_result"
    }
   ],
   "source": [
    "len(new_df_test[\"query\"].unique().tolist())"
   ]
  },
  {
   "cell_type": "code",
   "execution_count": 87,
   "id": "d9a5dffe",
   "metadata": {},
   "outputs": [],
   "source": [
    "# save the synthetic dataset as json files\n",
    "new_df_train.to_json(\"no_overlap_syn_train.json\")\n",
    "new_df_val.to_json(\"no_overlap_syn_val.json\")\n",
    "new_df_test.to_json(\"no_overlap_syn_test.json\")"
   ]
  },
  {
   "cell_type": "code",
   "execution_count": null,
   "id": "d5e37236",
   "metadata": {},
   "outputs": [],
   "source": []
  }
 ],
 "metadata": {
  "kernelspec": {
   "display_name": "Python 3 (ipykernel)",
   "language": "python",
   "name": "python3"
  },
  "language_info": {
   "codemirror_mode": {
    "name": "ipython",
    "version": 3
   },
   "file_extension": ".py",
   "mimetype": "text/x-python",
   "name": "python",
   "nbconvert_exporter": "python",
   "pygments_lexer": "ipython3",
   "version": "3.7.13"
  }
 },
 "nbformat": 4,
 "nbformat_minor": 5
}
