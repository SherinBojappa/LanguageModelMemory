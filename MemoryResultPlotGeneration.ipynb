{
 "cells": [
  {
   "cell_type": "code",
   "execution_count": null,
   "id": "44d44379",
   "metadata": {},
   "outputs": [],
   "source": [
    "#!pip install pandas==1.3.5"
   ]
  },
  {
   "cell_type": "code",
   "execution_count": 1,
   "id": "eedd3ac4",
   "metadata": {},
   "outputs": [],
   "source": [
    "import pandas as pd"
   ]
  },
  {
   "cell_type": "code",
   "execution_count": 2,
   "id": "73bec526",
   "metadata": {},
   "outputs": [
    {
     "name": "stdout",
     "output_type": "stream",
     "text": [
      "1.3.5\n"
     ]
    }
   ],
   "source": [
    "print(pd.__version__)"
   ]
  },
  {
   "cell_type": "code",
   "execution_count": 16,
   "id": "0a564691",
   "metadata": {},
   "outputs": [],
   "source": [
    "lm_output_gpt2 = pd.read_pickle('lm_output_gpt2.pkl')\n",
    "lm_output_gptj = pd.read_pickle('lm_output_gptj.pkl')"
   ]
  },
  {
   "cell_type": "code",
   "execution_count": 17,
   "id": "c41d3b61",
   "metadata": {},
   "outputs": [],
   "source": [
    "pd.options.display.max_colwidth = 100\n",
    "pd.set_option('display.max_colwidth', None)"
   ]
  },
  {
   "cell_type": "code",
   "execution_count": 5,
   "id": "c9c2be7a",
   "metadata": {},
   "outputs": [
    {
     "data": {
      "text/html": [
       "<div>\n",
       "<style scoped>\n",
       "    .dataframe tbody tr th:only-of-type {\n",
       "        vertical-align: middle;\n",
       "    }\n",
       "\n",
       "    .dataframe tbody tr th {\n",
       "        vertical-align: top;\n",
       "    }\n",
       "\n",
       "    .dataframe thead th {\n",
       "        text-align: right;\n",
       "    }\n",
       "</style>\n",
       "<table border=\"1\" class=\"dataframe\">\n",
       "  <thead>\n",
       "    <tr style=\"text-align: right;\">\n",
       "      <th></th>\n",
       "      <th>unmasked_text</th>\n",
       "      <th>masked_text</th>\n",
       "      <th>target_word</th>\n",
       "      <th>masked_surp</th>\n",
       "      <th>unmasked_surp</th>\n",
       "      <th>delta_surp</th>\n",
       "      <th>masked_next</th>\n",
       "      <th>unmasked_next</th>\n",
       "      <th>change_percent</th>\n",
       "    </tr>\n",
       "  </thead>\n",
       "  <tbody>\n",
       "    <tr>\n",
       "      <th>1475</th>\n",
       "      <td>back board and Big Show took Mysterio off the stretcher and swung the back</td>\n",
       "      <td>and Big Show took Mysterio off the stretcher and swung the back</td>\n",
       "      <td>board</td>\n",
       "      <td>3.086679</td>\n",
       "      <td>0.799380</td>\n",
       "      <td>2.287299</td>\n",
       "      <td>of</td>\n",
       "      <td>board</td>\n",
       "      <td>286.134098</td>\n",
       "    </tr>\n",
       "    <tr>\n",
       "      <th>3318</th>\n",
       "      <td>More than sixty U boats were sent to interdict Allied shipping in the Mediterranean Sea . Many of these U</td>\n",
       "      <td>were sent to interdict Allied shipping in the Mediterranean Sea . Many of these U</td>\n",
       "      <td>boats</td>\n",
       "      <td>8.894510</td>\n",
       "      <td>2.863768</td>\n",
       "      <td>6.030742</td>\n",
       "      <td>.</td>\n",
       "      <td>-</td>\n",
       "      <td>210.587684</td>\n",
       "    </tr>\n",
       "    <tr>\n",
       "      <th>417</th>\n",
       "      <td>Hed PE , also known as hed Planet Earth and stylized as , is an American rock band from Huntington Beach , California . Formed in 1994 , the band performs a style of music which it refers to as G p , a fusion of p rock and gangsta rap . After releasing three albums on Jive Records , Hed</td>\n",
       "      <td>, also known as hed Planet Earth and stylized as , is an American rock band from Huntington Beach , California . Formed in 1994 , the band performs a style of music which it refers to as G p , a fusion of p rock and gangsta rap . After releasing three albums on Jive Records , Hed</td>\n",
       "      <td>PE</td>\n",
       "      <td>16.294460</td>\n",
       "      <td>5.732906</td>\n",
       "      <td>10.561554</td>\n",
       "      <td>Planet</td>\n",
       "      <td>PE</td>\n",
       "      <td>184.226894</td>\n",
       "    </tr>\n",
       "    <tr>\n",
       "      <th>3039</th>\n",
       "      <td>NY 270 Campbell Boulevard just south of the community . NY</td>\n",
       "      <td>just south of the community . NY</td>\n",
       "      <td>270</td>\n",
       "      <td>12.268140</td>\n",
       "      <td>4.908146</td>\n",
       "      <td>7.359993</td>\n",
       "      <td>Times</td>\n",
       "      <td>270</td>\n",
       "      <td>149.954645</td>\n",
       "    </tr>\n",
       "    <tr>\n",
       "      <th>387</th>\n",
       "      <td>D Company moved to the hill immediately south of and overlooking Yongsan . A platoon of infantry went into position behind it . A Company was now ordered to fall back to the southeast edge of Yongsan on the left flank of D</td>\n",
       "      <td>moved to the hill immediately south of and overlooking Yongsan . A platoon of infantry went into position behind it . A Company was now ordered to fall back to the southeast edge of Yongsan on the left flank of D</td>\n",
       "      <td>Company</td>\n",
       "      <td>13.874587</td>\n",
       "      <td>5.610175</td>\n",
       "      <td>8.264412</td>\n",
       "      <td>ok</td>\n",
       "      <td>Company</td>\n",
       "      <td>147.311143</td>\n",
       "    </tr>\n",
       "  </tbody>\n",
       "</table>\n",
       "</div>"
      ],
      "text/plain": [
       "                                                                                                                                                                                                                                                                                        unmasked_text  \\\n",
       "1475                                                                                                                                                                                                                       back board and Big Show took Mysterio off the stretcher and swung the back   \n",
       "3318                                                                                                                                                                                        More than sixty U boats were sent to interdict Allied shipping in the Mediterranean Sea . Many of these U   \n",
       "417   Hed PE , also known as hed Planet Earth and stylized as , is an American rock band from Huntington Beach , California . Formed in 1994 , the band performs a style of music which it refers to as G p , a fusion of p rock and gangsta rap . After releasing three albums on Jive Records , Hed   \n",
       "3039                                                                                                                                                                                                                                       NY 270 Campbell Boulevard just south of the community . NY   \n",
       "387                                                                    D Company moved to the hill immediately south of and overlooking Yongsan . A platoon of infantry went into position behind it . A Company was now ordered to fall back to the southeast edge of Yongsan on the left flank of D   \n",
       "\n",
       "                                                                                                                                                                                                                                                                                   masked_text  \\\n",
       "1475                                                                                                                                                                                                                           and Big Show took Mysterio off the stretcher and swung the back   \n",
       "3318                                                                                                                                                                                                         were sent to interdict Allied shipping in the Mediterranean Sea . Many of these U   \n",
       "417   , also known as hed Planet Earth and stylized as , is an American rock band from Huntington Beach , California . Formed in 1994 , the band performs a style of music which it refers to as G p , a fusion of p rock and gangsta rap . After releasing three albums on Jive Records , Hed   \n",
       "3039                                                                                                                                                                                                                                                          just south of the community . NY   \n",
       "387                                                                       moved to the hill immediately south of and overlooking Yongsan . A platoon of infantry went into position behind it . A Company was now ordered to fall back to the southeast edge of Yongsan on the left flank of D   \n",
       "\n",
       "     target_word  masked_surp  unmasked_surp  delta_surp masked_next  \\\n",
       "1475       board     3.086679       0.799380    2.287299          of   \n",
       "3318       boats     8.894510       2.863768    6.030742           .   \n",
       "417           PE    16.294460       5.732906   10.561554      Planet   \n",
       "3039         270    12.268140       4.908146    7.359993       Times   \n",
       "387      Company    13.874587       5.610175    8.264412          ok   \n",
       "\n",
       "     unmasked_next  change_percent  \n",
       "1475         board      286.134098  \n",
       "3318             -      210.587684  \n",
       "417             PE      184.226894  \n",
       "3039           270      149.954645  \n",
       "387        Company      147.311143  "
      ]
     },
     "execution_count": 5,
     "metadata": {},
     "output_type": "execute_result"
    }
   ],
   "source": [
    "lm_output_gpt2.head()"
   ]
  },
  {
   "cell_type": "code",
   "execution_count": 6,
   "id": "efc81baa",
   "metadata": {},
   "outputs": [
    {
     "data": {
      "text/html": [
       "<div>\n",
       "<style scoped>\n",
       "    .dataframe tbody tr th:only-of-type {\n",
       "        vertical-align: middle;\n",
       "    }\n",
       "\n",
       "    .dataframe tbody tr th {\n",
       "        vertical-align: top;\n",
       "    }\n",
       "\n",
       "    .dataframe thead th {\n",
       "        text-align: right;\n",
       "    }\n",
       "</style>\n",
       "<table border=\"1\" class=\"dataframe\">\n",
       "  <thead>\n",
       "    <tr style=\"text-align: right;\">\n",
       "      <th></th>\n",
       "      <th>unmasked_text</th>\n",
       "      <th>masked_text</th>\n",
       "      <th>target_word</th>\n",
       "      <th>masked_surp</th>\n",
       "      <th>unmasked_surp</th>\n",
       "      <th>delta_surp</th>\n",
       "      <th>masked_next</th>\n",
       "      <th>unmasked_next</th>\n",
       "      <th>change_percent</th>\n",
       "    </tr>\n",
       "  </thead>\n",
       "  <tbody>\n",
       "    <tr>\n",
       "      <th>1475</th>\n",
       "      <td>back board and Big Show took Mysterio off the stretcher and swung the back</td>\n",
       "      <td>and Big Show took Mysterio off the stretcher and swung the back</td>\n",
       "      <td>board</td>\n",
       "      <td>5.486475</td>\n",
       "      <td>1.407364</td>\n",
       "      <td>4.079111</td>\n",
       "      <td>of</td>\n",
       "      <td>of</td>\n",
       "      <td>289.840506</td>\n",
       "    </tr>\n",
       "    <tr>\n",
       "      <th>542</th>\n",
       "      <td>a form of compound armor . This compound</td>\n",
       "      <td>. This compound</td>\n",
       "      <td>armor</td>\n",
       "      <td>21.088284</td>\n",
       "      <td>8.136322</td>\n",
       "      <td>12.951962</td>\n",
       "      <td>is</td>\n",
       "      <td>armor</td>\n",
       "      <td>159.186933</td>\n",
       "    </tr>\n",
       "    <tr>\n",
       "      <th>2750</th>\n",
       "      <td>Ranger William Best by the Official IRA .</td>\n",
       "      <td>by the Official IRA .</td>\n",
       "      <td>Best</td>\n",
       "      <td>13.913609</td>\n",
       "      <td>5.940522</td>\n",
       "      <td>7.973087</td>\n",
       "      <td>.</td>\n",
       "      <td>\\n</td>\n",
       "      <td>134.215263</td>\n",
       "    </tr>\n",
       "    <tr>\n",
       "      <th>2111</th>\n",
       "      <td>South High School in Torrance , California several extras in the gym crowd were South</td>\n",
       "      <td>in Torrance , California several extras in the gym crowd were South</td>\n",
       "      <td>High</td>\n",
       "      <td>14.904853</td>\n",
       "      <td>6.865426</td>\n",
       "      <td>8.039427</td>\n",
       "      <td>Korean</td>\n",
       "      <td>High</td>\n",
       "      <td>117.100203</td>\n",
       "    </tr>\n",
       "    <tr>\n",
       "      <th>3300</th>\n",
       "      <td>British executioner Albert Pierrepoint . A member of an unrelated Abwehr sabotage network , Luis Lpez Cordn Cuenca also arrested in 1943 was executed by</td>\n",
       "      <td>. A member of an unrelated Abwehr sabotage network , Luis Lpez Cordn Cuenca also arrested in 1943 was executed by</td>\n",
       "      <td>Pierrepoint</td>\n",
       "      <td>20.070963</td>\n",
       "      <td>9.471782</td>\n",
       "      <td>10.599181</td>\n",
       "      <td>the</td>\n",
       "      <td>Pierre</td>\n",
       "      <td>111.902718</td>\n",
       "    </tr>\n",
       "  </tbody>\n",
       "</table>\n",
       "</div>"
      ],
      "text/plain": [
       "                                                                                                                                                 unmasked_text  \\\n",
       "1475                                                                                back board and Big Show took Mysterio off the stretcher and swung the back   \n",
       "542                                                                                                                   a form of compound armor . This compound   \n",
       "2750                                                                                                                 Ranger William Best by the Official IRA .   \n",
       "2111                                                                     South High School in Torrance , California several extras in the gym crowd were South   \n",
       "3300  British executioner Albert Pierrepoint . A member of an unrelated Abwehr sabotage network , Luis Lpez Cordn Cuenca also arrested in 1943 was executed by   \n",
       "\n",
       "                                                                                                            masked_text  \\\n",
       "1475                                                    and Big Show took Mysterio off the stretcher and swung the back   \n",
       "542                                                                                                     . This compound   \n",
       "2750                                                                                              by the Official IRA .   \n",
       "2111                                                in Torrance , California several extras in the gym crowd were South   \n",
       "3300  . A member of an unrelated Abwehr sabotage network , Luis Lpez Cordn Cuenca also arrested in 1943 was executed by   \n",
       "\n",
       "      target_word  masked_surp  unmasked_surp  delta_surp masked_next  \\\n",
       "1475        board     5.486475       1.407364    4.079111          of   \n",
       "542         armor    21.088284       8.136322   12.951962          is   \n",
       "2750         Best    13.913609       5.940522    7.973087           .   \n",
       "2111         High    14.904853       6.865426    8.039427      Korean   \n",
       "3300  Pierrepoint    20.070963       9.471782   10.599181         the   \n",
       "\n",
       "     unmasked_next  change_percent  \n",
       "1475            of      289.840506  \n",
       "542          armor      159.186933  \n",
       "2750            \\n      134.215263  \n",
       "2111          High      117.100203  \n",
       "3300        Pierre      111.902718  "
      ]
     },
     "execution_count": 6,
     "metadata": {},
     "output_type": "execute_result"
    }
   ],
   "source": [
    "lm_output_gptj.head()"
   ]
  },
  {
   "cell_type": "code",
   "execution_count": 7,
   "id": "5a7ca595",
   "metadata": {},
   "outputs": [
    {
     "data": {
      "text/html": [
       "<div>\n",
       "<style scoped>\n",
       "    .dataframe tbody tr th:only-of-type {\n",
       "        vertical-align: middle;\n",
       "    }\n",
       "\n",
       "    .dataframe tbody tr th {\n",
       "        vertical-align: top;\n",
       "    }\n",
       "\n",
       "    .dataframe thead th {\n",
       "        text-align: right;\n",
       "    }\n",
       "</style>\n",
       "<table border=\"1\" class=\"dataframe\">\n",
       "  <thead>\n",
       "    <tr style=\"text-align: right;\">\n",
       "      <th></th>\n",
       "      <th>unmasked_text</th>\n",
       "      <th>masked_text</th>\n",
       "      <th>target_word</th>\n",
       "      <th>masked_surp</th>\n",
       "      <th>unmasked_surp</th>\n",
       "      <th>delta_surp</th>\n",
       "      <th>masked_next</th>\n",
       "      <th>unmasked_next</th>\n",
       "      <th>change_percent</th>\n",
       "    </tr>\n",
       "  </thead>\n",
       "  <tbody>\n",
       "    <tr>\n",
       "      <th>1475</th>\n",
       "      <td>back board and Big Show took Mysterio off the stretcher and swung the back</td>\n",
       "      <td>and Big Show took Mysterio off the stretcher and swung the back</td>\n",
       "      <td>board</td>\n",
       "      <td>3.086679</td>\n",
       "      <td>0.799380</td>\n",
       "      <td>2.287299</td>\n",
       "      <td>of</td>\n",
       "      <td>board</td>\n",
       "      <td>286.134098</td>\n",
       "    </tr>\n",
       "    <tr>\n",
       "      <th>3318</th>\n",
       "      <td>More than sixty U boats were sent to interdict Allied shipping in the Mediterranean Sea . Many of these U</td>\n",
       "      <td>were sent to interdict Allied shipping in the Mediterranean Sea . Many of these U</td>\n",
       "      <td>boats</td>\n",
       "      <td>8.894510</td>\n",
       "      <td>2.863768</td>\n",
       "      <td>6.030742</td>\n",
       "      <td>.</td>\n",
       "      <td>-</td>\n",
       "      <td>210.587684</td>\n",
       "    </tr>\n",
       "    <tr>\n",
       "      <th>417</th>\n",
       "      <td>Hed PE , also known as hed Planet Earth and stylized as , is an American rock band from Huntington Beach , California . Formed in 1994 , the band performs a style of music which it refers to as G p , a fusion of p rock and gangsta rap . After releasing three albums on Jive Records , Hed</td>\n",
       "      <td>, also known as hed Planet Earth and stylized as , is an American rock band from Huntington Beach , California . Formed in 1994 , the band performs a style of music which it refers to as G p , a fusion of p rock and gangsta rap . After releasing three albums on Jive Records , Hed</td>\n",
       "      <td>PE</td>\n",
       "      <td>16.294460</td>\n",
       "      <td>5.732906</td>\n",
       "      <td>10.561554</td>\n",
       "      <td>Planet</td>\n",
       "      <td>PE</td>\n",
       "      <td>184.226894</td>\n",
       "    </tr>\n",
       "    <tr>\n",
       "      <th>3039</th>\n",
       "      <td>NY 270 Campbell Boulevard just south of the community . NY</td>\n",
       "      <td>just south of the community . NY</td>\n",
       "      <td>270</td>\n",
       "      <td>12.268140</td>\n",
       "      <td>4.908146</td>\n",
       "      <td>7.359993</td>\n",
       "      <td>Times</td>\n",
       "      <td>270</td>\n",
       "      <td>149.954645</td>\n",
       "    </tr>\n",
       "    <tr>\n",
       "      <th>387</th>\n",
       "      <td>D Company moved to the hill immediately south of and overlooking Yongsan . A platoon of infantry went into position behind it . A Company was now ordered to fall back to the southeast edge of Yongsan on the left flank of D</td>\n",
       "      <td>moved to the hill immediately south of and overlooking Yongsan . A platoon of infantry went into position behind it . A Company was now ordered to fall back to the southeast edge of Yongsan on the left flank of D</td>\n",
       "      <td>Company</td>\n",
       "      <td>13.874587</td>\n",
       "      <td>5.610175</td>\n",
       "      <td>8.264412</td>\n",
       "      <td>ok</td>\n",
       "      <td>Company</td>\n",
       "      <td>147.311143</td>\n",
       "    </tr>\n",
       "  </tbody>\n",
       "</table>\n",
       "</div>"
      ],
      "text/plain": [
       "                                                                                                                                                                                                                                                                                        unmasked_text  \\\n",
       "1475                                                                                                                                                                                                                       back board and Big Show took Mysterio off the stretcher and swung the back   \n",
       "3318                                                                                                                                                                                        More than sixty U boats were sent to interdict Allied shipping in the Mediterranean Sea . Many of these U   \n",
       "417   Hed PE , also known as hed Planet Earth and stylized as , is an American rock band from Huntington Beach , California . Formed in 1994 , the band performs a style of music which it refers to as G p , a fusion of p rock and gangsta rap . After releasing three albums on Jive Records , Hed   \n",
       "3039                                                                                                                                                                                                                                       NY 270 Campbell Boulevard just south of the community . NY   \n",
       "387                                                                    D Company moved to the hill immediately south of and overlooking Yongsan . A platoon of infantry went into position behind it . A Company was now ordered to fall back to the southeast edge of Yongsan on the left flank of D   \n",
       "\n",
       "                                                                                                                                                                                                                                                                                   masked_text  \\\n",
       "1475                                                                                                                                                                                                                           and Big Show took Mysterio off the stretcher and swung the back   \n",
       "3318                                                                                                                                                                                                         were sent to interdict Allied shipping in the Mediterranean Sea . Many of these U   \n",
       "417   , also known as hed Planet Earth and stylized as , is an American rock band from Huntington Beach , California . Formed in 1994 , the band performs a style of music which it refers to as G p , a fusion of p rock and gangsta rap . After releasing three albums on Jive Records , Hed   \n",
       "3039                                                                                                                                                                                                                                                          just south of the community . NY   \n",
       "387                                                                       moved to the hill immediately south of and overlooking Yongsan . A platoon of infantry went into position behind it . A Company was now ordered to fall back to the southeast edge of Yongsan on the left flank of D   \n",
       "\n",
       "     target_word  masked_surp  unmasked_surp  delta_surp masked_next  \\\n",
       "1475       board     3.086679       0.799380    2.287299          of   \n",
       "3318       boats     8.894510       2.863768    6.030742           .   \n",
       "417           PE    16.294460       5.732906   10.561554      Planet   \n",
       "3039         270    12.268140       4.908146    7.359993       Times   \n",
       "387      Company    13.874587       5.610175    8.264412          ok   \n",
       "\n",
       "     unmasked_next  change_percent  \n",
       "1475         board      286.134098  \n",
       "3318             -      210.587684  \n",
       "417             PE      184.226894  \n",
       "3039           270      149.954645  \n",
       "387        Company      147.311143  "
      ]
     },
     "execution_count": 7,
     "metadata": {},
     "output_type": "execute_result"
    }
   ],
   "source": [
    "lm_output_gpt2.head()"
   ]
  },
  {
   "cell_type": "code",
   "execution_count": 18,
   "id": "f8831196",
   "metadata": {},
   "outputs": [],
   "source": [
    "# number of intervening tokens which is the same as the masked text\n",
    "lm_output_gpt2[\"intervening_tokens\"] = lm_output_gpt2[\"masked_text\"].apply(lambda x: len(x.split(\" \")))\n",
    "lm_output_gptj[\"intervening_tokens\"] = lm_output_gptj[\"masked_text\"].apply(lambda x: len(x.split(\" \")))"
   ]
  },
  {
   "cell_type": "code",
   "execution_count": 19,
   "id": "3d00429b",
   "metadata": {},
   "outputs": [],
   "source": [
    "# sequence length which is the same as the length of the unamasked text + length of the target word(1)\n",
    "lm_output_gpt2[\"seq_len\"] = lm_output_gpt2[\"unmasked_text\"].apply(lambda x: (len(x.split(\" \"))+1))\n",
    "lm_output_gptj[\"seq_len\"] = lm_output_gptj[\"unmasked_text\"].apply(lambda x: (len(x.split(\" \"))+1))"
   ]
  },
  {
   "cell_type": "code",
   "execution_count": 20,
   "id": "3dcfa3e2",
   "metadata": {},
   "outputs": [],
   "source": [
    "import matplotlib\n",
    "import matplotlib.pyplot as plt"
   ]
  },
  {
   "cell_type": "code",
   "execution_count": 26,
   "id": "87c3a9e4",
   "metadata": {},
   "outputs": [],
   "source": [
    "gpt2_change_percentage = lm_output_gpt2[\"change_percent\"].to_list()\n",
    "gptj_change_percentage = lm_output_gptj[\"change_percent\"].to_list()\n",
    "\n",
    "gpt2_intervening_tokens = lm_output_gpt2[\"intervening_tokens\"].to_list()\n",
    "gptj_intervening_tokens = lm_output_gptj[\"intervening_tokens\"].to_list()\n",
    "\n",
    "gpt2_seq_len = lm_output_gpt2[\"seq_len\"].to_list()\n",
    "gptj_seq_len = lm_output_gptj[\"seq_len\"].to_list()"
   ]
  },
  {
   "cell_type": "code",
   "execution_count": 29,
   "id": "631f85af",
   "metadata": {},
   "outputs": [
    {
     "data": {
      "text/plain": [
       "<matplotlib.collections.PathCollection at 0x7fbe53e400d0>"
      ]
     },
     "execution_count": 29,
     "metadata": {},
     "output_type": "execute_result"
    },
    {
     "data": {
      "image/png": "[encoded data removed]",
      "text/plain": [
       "<Figure size 432x288 with 1 Axes>"
      ]
     },
     "metadata": {
      "needs_background": "light"
     },
     "output_type": "display_data"
    }
   ],
   "source": [
    "plt.title(\"Plot of intervening tokens and surprisal gpt2\")\n",
    "plt.xlabel(\"intervening tokens\")\n",
    "plt.ylabel(\"percentage change in surprisal\")\n",
    "plt.scatter(gpt2_intervening_tokens, gpt2_change_percentage)"
   ]
  },
  {
   "cell_type": "code",
   "execution_count": 30,
   "id": "7377bf34",
   "metadata": {},
   "outputs": [
    {
     "data": {
      "text/plain": [
       "<matplotlib.collections.PathCollection at 0x7fbe53df78d0>"
      ]
     },
     "execution_count": 30,
     "metadata": {},
     "output_type": "execute_result"
    },
    {
     "data": {
      "image/png": "[encoded data removed]",
      "text/plain": [
       "<Figure size 432x288 with 1 Axes>"
      ]
     },
     "metadata": {
      "needs_background": "light"
     },
     "output_type": "display_data"
    }
   ],
   "source": [
    "plt.title(\"Plot of intervening tokens and surprisal gptj\")\n",
    "plt.xlabel(\"intervening tokens\")\n",
    "plt.ylabel(\"percentage change in surprisal\")\n",
    "plt.scatter(gptj_intervening_tokens, gptj_change_percentage)"
   ]
  },
  {
   "cell_type": "code",
   "execution_count": 31,
   "id": "334330be",
   "metadata": {},
   "outputs": [
    {
     "data": {
      "text/plain": [
       "<matplotlib.collections.PathCollection at 0x7fbe53c5cb10>"
      ]
     },
     "execution_count": 31,
     "metadata": {},
     "output_type": "execute_result"
    },
    {
     "data": {
      "image/png": "[encoded data removed]",
      "text/plain": [
       "<Figure size 432x288 with 1 Axes>"
      ]
     },
     "metadata": {
      "needs_background": "light"
     },
     "output_type": "display_data"
    }
   ],
   "source": [
    "plt.title(\"Plot of seq len and surprisal gpt2\")\n",
    "plt.xlabel(\"seq len\")\n",
    "plt.ylabel(\"percentage change in surprisal\")\n",
    "plt.scatter(gpt2_seq_len, gpt2_change_percentage)"
   ]
  },
  {
   "cell_type": "code",
   "execution_count": 32,
   "id": "3fbe33b6",
   "metadata": {},
   "outputs": [
    {
     "data": {
      "text/plain": [
       "<matplotlib.collections.PathCollection at 0x7fbe53bf15d0>"
      ]
     },
     "execution_count": 32,
     "metadata": {},
     "output_type": "execute_result"
    },
    {
     "data": {
      "image/png": "[encoded data removed]",
      "text/plain": [
       "<Figure size 432x288 with 1 Axes>"
      ]
     },
     "metadata": {
      "needs_background": "light"
     },
     "output_type": "display_data"
    }
   ],
   "source": [
    "plt.title(\"Plot of seq len and surprisal gptj\")\n",
    "plt.xlabel(\"seq len\")\n",
    "plt.ylabel(\"percentage change in surprisal\")\n",
    "plt.scatter(gptj_seq_len, gptj_change_percentage)"
   ]
  },
  {
   "cell_type": "code",
   "execution_count": null,
   "id": "8b35e921",
   "metadata": {},
   "outputs": [],
   "source": []
  }
 ],
 "metadata": {
  "kernelspec": {
   "display_name": "Python 3 (ipykernel)",
   "language": "python",
   "name": "python3"
  },
  "language_info": {
   "codemirror_mode": {
    "name": "ipython",
    "version": 3
   },
   "file_extension": ".py",
   "mimetype": "text/x-python",
   "name": "python",
   "nbconvert_exporter": "python",
   "pygments_lexer": "ipython3",
   "version": "3.7.13"
  }
 },
 "nbformat": 4,
 "nbformat_minor": 5
}
