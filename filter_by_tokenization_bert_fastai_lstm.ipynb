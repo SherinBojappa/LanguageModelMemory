{
 "cells": [
  {
   "cell_type": "code",
   "execution_count": 71,
   "id": "f3cc97a3",
   "metadata": {},
   "outputs": [
    {
     "name": "stdout",
     "output_type": "stream",
     "text": [
      "\u001b[33mWARNING: Running pip as the 'root' user can result in broken permissions and conflicting behaviour with the system package manager. It is recommended to use a virtual environment instead: https://pip.pypa.io/warnings/venv\u001b[0m\r\n"
     ]
    }
   ],
   "source": [
    "#!pip install -Uq fastai"
   ]
  },
  {
   "cell_type": "code",
   "execution_count": 18,
   "id": "e4875348",
   "metadata": {},
   "outputs": [
    {
     "data": {
      "text/plain": [
       "'2.6.3'"
      ]
     },
     "execution_count": 18,
     "metadata": {},
     "output_type": "execute_result"
    }
   ],
   "source": [
    "from tqdm import tqdm\n",
    "import fastai\n",
    "fastai.__version__"
   ]
  },
  {
   "cell_type": "code",
   "execution_count": 19,
   "id": "1bc0cc73",
   "metadata": {},
   "outputs": [],
   "source": [
    "from fastai.basics import *\n",
    "from fastai.callback.all import *\n",
    "from fastai.text.all import *"
   ]
  },
  {
   "cell_type": "code",
   "execution_count": 42,
   "id": "92a11074",
   "metadata": {},
   "outputs": [],
   "source": [
    "import pandas as pd\n",
    "import torch\n",
    "pd.options.display.max_colwidth = 100\n",
    "pd.set_option('display.max_colwidth', None)"
   ]
  },
  {
   "cell_type": "code",
   "execution_count": 3,
   "id": "a256f740",
   "metadata": {},
   "outputs": [],
   "source": [
    "df_train = pd.read_json(\"18k_query_lm_recall_train.json\")\n",
    "df_val = pd.read_json(\"18k_query_lm_recall_val.json\")\n",
    "df_test = pd.read_json(\"18k_query_lm_recall_test.json\")"
   ]
  },
  {
   "cell_type": "code",
   "execution_count": 4,
   "id": "d00ac737",
   "metadata": {},
   "outputs": [
    {
     "data": {
      "text/plain": [
       "70928"
      ]
     },
     "execution_count": 4,
     "metadata": {},
     "output_type": "execute_result"
    }
   ],
   "source": [
    "len(df_train)"
   ]
  },
  {
   "cell_type": "code",
   "execution_count": 7,
   "id": "eef1aa0f",
   "metadata": {},
   "outputs": [
    {
     "name": "stdout",
     "output_type": "stream",
     "text": [
      "Using cuda device\n"
     ]
    }
   ],
   "source": [
    "device = \"cuda\" if torch.cuda.is_available() else \"cpu\"\n",
    "print(f\"Using {device} device\")"
   ]
  },
  {
   "cell_type": "code",
   "execution_count": 8,
   "id": "4e76fc87",
   "metadata": {},
   "outputs": [
    {
     "name": "stderr",
     "output_type": "stream",
     "text": [
      "Some weights of the model checkpoint at bert-base-cased were not used when initializing BertModel: ['cls.predictions.decoder.weight', 'cls.predictions.transform.dense.bias', 'cls.seq_relationship.bias', 'cls.predictions.transform.LayerNorm.weight', 'cls.predictions.transform.dense.weight', 'cls.predictions.transform.LayerNorm.bias', 'cls.predictions.bias', 'cls.seq_relationship.weight']\n",
      "- This IS expected if you are initializing BertModel from the checkpoint of a model trained on another task or with another architecture (e.g. initializing a BertForSequenceClassification model from a BertForPreTraining model).\n",
      "- This IS NOT expected if you are initializing BertModel from the checkpoint of a model that you expect to be exactly identical (initializing a BertForSequenceClassification model from a BertForSequenceClassification model).\n"
     ]
    }
   ],
   "source": [
    "from transformers import BertTokenizer, BertModel, BertTokenizerFast\n",
    "import torch\n",
    "tokenizer_bert = BertTokenizer.from_pretrained(\"bert-base-cased\")\n",
    "model_bert = BertModel.from_pretrained(\"bert-base-cased\").to(device)\n",
    "for param in model_bert.parameters():\n",
    "    param.requires_grad = False"
   ]
  },
  {
   "cell_type": "code",
   "execution_count": 9,
   "id": "96c43668",
   "metadata": {},
   "outputs": [
    {
     "name": "stderr",
     "output_type": "stream",
     "text": [
      "Token indices sequence length is longer than the specified maximum sequence length for this model (515 > 512). Running this sequence through the model will result in indexing errors\n"
     ]
    }
   ],
   "source": [
    "# drop samples that exceed 512 after tokenization for bert \n",
    "df_train[\"bert_token_length\"] = df_train.apply(lambda x: len(tokenizer_bert(x[\"context\"]).input_ids), axis=1)"
   ]
  },
  {
   "cell_type": "code",
   "execution_count": 10,
   "id": "34f2ebc3",
   "metadata": {},
   "outputs": [],
   "source": [
    "df_train_dropped = df_train[df_train[\"bert_token_length\"]<=512]"
   ]
  },
  {
   "cell_type": "code",
   "execution_count": 11,
   "id": "95c02cf2",
   "metadata": {},
   "outputs": [],
   "source": [
    "# drop samples that exceed 512 after tokenization for bert \n",
    "df_val[\"bert_token_length\"] = df_val.apply(lambda x: len(tokenizer_bert(x[\"context\"]).input_ids), axis=1)"
   ]
  },
  {
   "cell_type": "code",
   "execution_count": 12,
   "id": "1d87769b",
   "metadata": {},
   "outputs": [],
   "source": [
    "df_val_dropped = df_val[df_val[\"bert_token_length\"]<=512]"
   ]
  },
  {
   "cell_type": "code",
   "execution_count": 13,
   "id": "1222909d",
   "metadata": {},
   "outputs": [],
   "source": [
    "# drop samples that exceed 512 after tokenization for bert \n",
    "df_test[\"bert_token_length\"] = df_test.apply(lambda x: len(tokenizer_bert(x[\"context\"]).input_ids), axis=1)"
   ]
  },
  {
   "cell_type": "code",
   "execution_count": 14,
   "id": "19218136",
   "metadata": {},
   "outputs": [],
   "source": [
    "df_test_dropped = df_test[df_test[\"bert_token_length\"]<=512]"
   ]
  },
  {
   "cell_type": "code",
   "execution_count": 15,
   "id": "f6ef1acd",
   "metadata": {},
   "outputs": [],
   "source": [
    "df_train_dropped.to_json(\"train_after_bert_tokeized.json\")\n",
    "df_val_dropped.to_json(\"val_after_bert_tokeized.json\")\n",
    "df_test_dropped.to_json(\"test_after_bert_tokeized.json\")"
   ]
  },
  {
   "cell_type": "code",
   "execution_count": 17,
   "id": "f4f9c04f",
   "metadata": {},
   "outputs": [
    {
     "name": "stdout",
     "output_type": "stream",
     "text": [
      "70890 10557\n",
      "18254 2640\n",
      "38594 5657\n"
     ]
    }
   ],
   "source": [
    "print(len(df_train_dropped), len(df_train_dropped[\"query\"].unique()))\n",
    "print(len(df_val_dropped), len(df_val_dropped[\"query\"].unique()))\n",
    "print(len(df_test_dropped), len(df_test_dropped[\"query\"].unique()))"
   ]
  },
  {
   "cell_type": "markdown",
   "id": "5e305a02",
   "metadata": {},
   "source": [
    "# FastAI AWD-LSTM Tokenization Filtration"
   ]
  },
  {
   "cell_type": "code",
   "execution_count": 20,
   "id": "f2a3e989",
   "metadata": {},
   "outputs": [],
   "source": [
    "#https://github.com/fastai/fastai2/blob/master/nbs/39_tutorial.transformers.ipynb\n",
    "path = untar_data(URLs.WIKITEXT)"
   ]
  },
  {
   "cell_type": "code",
   "execution_count": 21,
   "id": "59840419",
   "metadata": {},
   "outputs": [],
   "source": [
    "fastai_train = pd.read_csv(path/'train.csv', header=None)\n",
    "fastai_valid = pd.read_csv(path/'test.csv', header=None)\n",
    "df_all = pd.concat([fastai_train, fastai_valid])"
   ]
  },
  {
   "cell_type": "code",
   "execution_count": 22,
   "id": "686167b9",
   "metadata": {},
   "outputs": [
    {
     "data": {
      "text/html": [
       "\n",
       "<style>\n",
       "    /* Turns off some styling */\n",
       "    progress {\n",
       "        /* gets rid of default border in Firefox and Opera. */\n",
       "        border: none;\n",
       "        /* Needs to be in here for Safari polyfill so background images work as expected. */\n",
       "        background-size: auto;\n",
       "    }\n",
       "    .progress-bar-interrupted, .progress-bar-interrupted::-webkit-progress-bar {\n",
       "        background: #F44336;\n",
       "    }\n",
       "</style>\n"
      ],
      "text/plain": [
       "<IPython.core.display.HTML object>"
      ]
     },
     "metadata": {},
     "output_type": "display_data"
    },
    {
     "data": {
      "text/html": [],
      "text/plain": [
       "<IPython.core.display.HTML object>"
      ]
     },
     "metadata": {},
     "output_type": "display_data"
    }
   ],
   "source": [
    "splits = [list(range_of(fastai_train)), list(range(len(fastai_train), len(df_all)))]\n",
    "tfms = [attrgetter(\"text\"), Tokenizer.from_df(0), Numericalize()]\n",
    "dsets = Datasets(df_all, [tfms], splits=splits, dl_type=LMDataLoader)"
   ]
  },
  {
   "cell_type": "code",
   "execution_count": 23,
   "id": "3a88292c",
   "metadata": {},
   "outputs": [],
   "source": [
    "bs,sl = 5,512\n",
    "dls = dsets.dataloaders(bs=bs, seq_len=sl)"
   ]
  },
  {
   "cell_type": "code",
   "execution_count": 24,
   "id": "fd3e5619",
   "metadata": {},
   "outputs": [],
   "source": [
    "lm = language_model_learner(dls, AWD_LSTM, drop_mult=0.5, metrics=Perplexity(), pretrained=True)"
   ]
  },
  {
   "cell_type": "code",
   "execution_count": 25,
   "id": "cf03a860",
   "metadata": {},
   "outputs": [
    {
     "data": {
      "text/html": [
       "\n",
       "<style>\n",
       "    /* Turns off some styling */\n",
       "    progress {\n",
       "        /* gets rid of default border in Firefox and Opera. */\n",
       "        border: none;\n",
       "        /* Needs to be in here for Safari polyfill so background images work as expected. */\n",
       "        background-size: auto;\n",
       "    }\n",
       "    .progress-bar-interrupted, .progress-bar-interrupted::-webkit-progress-bar {\n",
       "        background: #F44336;\n",
       "    }\n",
       "</style>\n"
      ],
      "text/plain": [
       "<IPython.core.display.HTML object>"
      ]
     },
     "metadata": {},
     "output_type": "display_data"
    },
    {
     "data": {
      "text/html": [],
      "text/plain": [
       "<IPython.core.display.HTML object>"
      ]
     },
     "metadata": {},
     "output_type": "display_data"
    },
    {
     "data": {
      "text/plain": [
       "(#2) [3.2393643856048584,25.517498016357422]"
      ]
     },
     "execution_count": 25,
     "metadata": {},
     "output_type": "execute_result"
    }
   ],
   "source": [
    "lm.validate()"
   ]
  },
  {
   "cell_type": "code",
   "execution_count": 52,
   "id": "23a57710",
   "metadata": {},
   "outputs": [],
   "source": [
    "def get_lstm_context_len(df):\n",
    "    lstm_context_len = []\n",
    "    for c in tqdm(df[\"context\"]):\n",
    "        lstm_context_len.append(len(dsets.numericalize(dsets.tokenizer(c))))\n",
    "    return lstm_context_len\n"
   ]
  },
  {
   "cell_type": "code",
   "execution_count": 53,
   "id": "bc068613",
   "metadata": {},
   "outputs": [
    {
     "name": "stderr",
     "output_type": "stream",
     "text": [
      "100%|██████████████████████████████████████████████████████████████████████████████████████████████████████████████████████████████████████████████████████████████| 70890/70890 [04:28<00:00, 263.54it/s]\n"
     ]
    }
   ],
   "source": [
    "train_lstm_context_len = get_lstm_context_len(df_train_dropped)"
   ]
  },
  {
   "cell_type": "code",
   "execution_count": 54,
   "id": "d7ce7cc0",
   "metadata": {},
   "outputs": [
    {
     "name": "stderr",
     "output_type": "stream",
     "text": [
      "100%|██████████████████████████████████████████████████████████████████████████████████████████████████████████████████████████████████████████████████████████████| 18254/18254 [01:07<00:00, 268.99it/s]\n"
     ]
    }
   ],
   "source": [
    "val_lstm_context_len = get_lstm_context_len(df_val_dropped)"
   ]
  },
  {
   "cell_type": "code",
   "execution_count": 55,
   "id": "9cf24265",
   "metadata": {},
   "outputs": [
    {
     "name": "stderr",
     "output_type": "stream",
     "text": [
      "100%|██████████████████████████████████████████████████████████████████████████████████████████████████████████████████████████████████████████████████████████████| 38594/38594 [02:23<00:00, 268.66it/s]\n"
     ]
    }
   ],
   "source": [
    "test_lstm_context_len = get_lstm_context_len(df_test_dropped)"
   ]
  },
  {
   "cell_type": "code",
   "execution_count": 58,
   "id": "190118b2",
   "metadata": {},
   "outputs": [
    {
     "data": {
      "text/plain": [
       "70890"
      ]
     },
     "execution_count": 58,
     "metadata": {},
     "output_type": "execute_result"
    }
   ],
   "source": [
    "len(train_lstm_context_len)"
   ]
  },
  {
   "cell_type": "code",
   "execution_count": 85,
   "id": "e3032511",
   "metadata": {},
   "outputs": [],
   "source": [
    "df_train_dropped = df_train_dropped.assign(lstm_token_length=train_lstm_context_len)\n"
   ]
  },
  {
   "cell_type": "code",
   "execution_count": 87,
   "id": "2a6fa209",
   "metadata": {},
   "outputs": [],
   "source": [
    "df_val_dropped = df_val_dropped.assign(lstm_token_length=val_lstm_context_len)\n",
    "df_test_dropped = df_test_dropped.assign(lstm_token_length=test_lstm_context_len)"
   ]
  },
  {
   "cell_type": "code",
   "execution_count": 88,
   "id": "d4e1ae5e",
   "metadata": {},
   "outputs": [],
   "source": [
    "df_train_final = df_train_dropped[df_train_dropped[\"lstm_token_length\"]<=512]"
   ]
  },
  {
   "cell_type": "code",
   "execution_count": 89,
   "id": "69dc01de",
   "metadata": {},
   "outputs": [],
   "source": [
    "df_val_final = df_val_dropped[df_val_dropped[\"lstm_token_length\"]<=512]\n",
    "df_test_final = df_test_dropped[df_test_dropped[\"lstm_token_length\"]<=512]"
   ]
  },
  {
   "cell_type": "code",
   "execution_count": 90,
   "id": "ad9df3ac",
   "metadata": {},
   "outputs": [
    {
     "name": "stdout",
     "output_type": "stream",
     "text": [
      "70749 10542\n",
      "18223 2636\n",
      "38513 5653\n"
     ]
    }
   ],
   "source": [
    "print(len(df_train_final), len(df_train_final[\"query\"].unique()))\n",
    "print(len(df_val_final), len(df_val_final[\"query\"].unique()))\n",
    "print(len(df_test_final), len(df_test_final[\"query\"].unique()))"
   ]
  },
  {
   "cell_type": "code",
   "execution_count": 91,
   "id": "cc9ab8c2",
   "metadata": {},
   "outputs": [],
   "source": [
    "# save the final dataset \n",
    "df_train_final.to_json(\"train_final.json\")\n",
    "df_val_final.to_json(\"val_final.json\")\n",
    "df_test_final.to_json(\"test_final.json\")"
   ]
  },
  {
   "cell_type": "code",
   "execution_count": null,
   "id": "569d3763",
   "metadata": {},
   "outputs": [],
   "source": []
  },
  {
   "cell_type": "code",
   "execution_count": null,
   "id": "5a6fcad9",
   "metadata": {},
   "outputs": [],
   "source": []
  }
 ],
 "metadata": {
  "kernelspec": {
   "display_name": "Python 3 (ipykernel)",
   "language": "python",
   "name": "python3"
  },
  "language_info": {
   "codemirror_mode": {
    "name": "ipython",
    "version": 3
   },
   "file_extension": ".py",
   "mimetype": "text/x-python",
   "name": "python",
   "nbconvert_exporter": "python",
   "pygments_lexer": "ipython3",
   "version": "3.7.13"
  }
 },
 "nbformat": 4,
 "nbformat_minor": 5
}
